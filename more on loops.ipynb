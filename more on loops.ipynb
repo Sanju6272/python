{
 "cells": [
  {
   "cell_type": "markdown",
   "id": "6e154ef9",
   "metadata": {},
   "source": [
    "# how 'for loop' work with string"
   ]
  },
  {
   "cell_type": "code",
   "execution_count": 1,
   "id": "56fe9678",
   "metadata": {},
   "outputs": [
    {
     "name": "stdout",
     "output_type": "stream",
     "text": [
      "s\n",
      "a\n",
      "n\n",
      "j\n",
      "u\n"
     ]
    }
   ],
   "source": [
    "name = \"sanju\"\n",
    "for letter in name:\n",
    "    print(letter)"
   ]
  },
  {
   "cell_type": "markdown",
   "id": "f446a6b6",
   "metadata": {},
   "source": [
    "# how 'for loop' work with numbers"
   ]
  },
  {
   "cell_type": "code",
   "execution_count": 2,
   "id": "b6b501e5",
   "metadata": {},
   "outputs": [
    {
     "name": "stdout",
     "output_type": "stream",
     "text": [
      "5\n",
      "0\n",
      "1\n",
      "2\n",
      "3\n",
      "4\n"
     ]
    }
   ],
   "source": [
    "#range function takes 3 arguments that is start,end-1,stride(increment or decrement)\n",
    "n = int(input())\n",
    "for i in range(n):  \n",
    "    print(i)"
   ]
  },
  {
   "cell_type": "code",
   "execution_count": 3,
   "id": "444555c9",
   "metadata": {},
   "outputs": [
    {
     "name": "stdout",
     "output_type": "stream",
     "text": [
      "5\n",
      "1\n",
      "2\n",
      "3\n",
      "4\n"
     ]
    }
   ],
   "source": [
    "n = int(input())\n",
    "for i in range(1,n):\n",
    "    print(i)"
   ]
  },
  {
   "cell_type": "code",
   "execution_count": 4,
   "id": "d9fd0635",
   "metadata": {},
   "outputs": [
    {
     "name": "stdout",
     "output_type": "stream",
     "text": [
      "5\n",
      "3\n"
     ]
    }
   ],
   "source": [
    "n = int(input())\n",
    "for i in range(3,n,2):\n",
    "    print(i)"
   ]
  },
  {
   "cell_type": "markdown",
   "id": "b836e154",
   "metadata": {},
   "source": [
    "# print numbers in reverse"
   ]
  },
  {
   "cell_type": "code",
   "execution_count": 5,
   "id": "d7f02f14",
   "metadata": {},
   "outputs": [
    {
     "name": "stdout",
     "output_type": "stream",
     "text": [
      "9\n",
      "9\n",
      "7\n",
      "5\n",
      "3\n"
     ]
    }
   ],
   "source": [
    "n = int(input())\n",
    "for i in range(n,1,-2):\n",
    "    print(i)"
   ]
  },
  {
   "cell_type": "markdown",
   "id": "3d3eca98",
   "metadata": {},
   "source": [
    "# print multiple of 3"
   ]
  },
  {
   "cell_type": "code",
   "execution_count": 5,
   "id": "0ca32620",
   "metadata": {},
   "outputs": [
    {
     "name": "stdout",
     "output_type": "stream",
     "text": [
      "2\n",
      "20\n",
      "3 6 9 12 15 18 "
     ]
    }
   ],
   "source": [
    "#a<b and printing multiples of 3 starting from a to b\n",
    "a = int(input())\n",
    "b = int(input())\n",
    "if(a%3==0):\n",
    "    s=a\n",
    "elif(a%3==1):\n",
    "    s=a+2\n",
    "else:\n",
    "    s=a+1\n",
    "\n",
    "for i in range(s,b+1,3):\n",
    "    print(i,end=\" \")"
   ]
  },
  {
   "cell_type": "markdown",
   "id": "4d138f97",
   "metadata": {},
   "source": [
    "# Terms of AP"
   ]
  },
  {
   "cell_type": "code",
   "execution_count": 7,
   "id": "c67a7d3e",
   "metadata": {},
   "outputs": [
    {
     "name": "stdout",
     "output_type": "stream",
     "text": [
      "10\n",
      "5 11 14 17 23 26 29 35 38 41 "
     ]
    }
   ],
   "source": [
    "n=int(input())\n",
    "a=0\n",
    "for i in range(1,n+1):\n",
    "    a=a+1\n",
    "    b=3*a+2\n",
    "    if(b%4==0):\n",
    "        a=a+1\n",
    "        b=3*a+2\n",
    "        print(b,end=\" \")\n",
    "    else:\n",
    "        print(b,end=\" \")\n",
    "    "
   ]
  },
  {
   "cell_type": "markdown",
   "id": "328f5acb",
   "metadata": {},
   "source": [
    "# IsPrime"
   ]
  },
  {
   "cell_type": "code",
   "execution_count": 8,
   "id": "f9c34c41",
   "metadata": {},
   "outputs": [
    {
     "name": "stdout",
     "output_type": "stream",
     "text": [
      "12345\n",
      "not prime\n"
     ]
    }
   ],
   "source": [
    "n=int(input())\n",
    "flag=False\n",
    "for a in range(2,n,1):\n",
    "    if n%a==0:\n",
    "        flag=True\n",
    "        break\n",
    "if flag:\n",
    "    print(\"not prime\")\n",
    "else:\n",
    "    print(\"prime\")"
   ]
  },
  {
   "cell_type": "markdown",
   "id": "84bc4adb",
   "metadata": {},
   "source": [
    "# pattern"
   ]
  },
  {
   "cell_type": "code",
   "execution_count": 2,
   "id": "d38c05e4",
   "metadata": {},
   "outputs": [
    {
     "name": "stdout",
     "output_type": "stream",
     "text": [
      "4\n",
      "   1\n",
      "  232\n",
      " 34543\n",
      "4567654\n"
     ]
    }
   ],
   "source": [
    "n=int(input())\n",
    "for i in range(1,n+1,1):\n",
    "    for s in range(n-i):\n",
    "        print(\" \",end=\"\")\n",
    "    for j in range(i,2*i,1):\n",
    "        print(j,end=\"\")\n",
    "    for j in range(2*i-2,i-1,-1):\n",
    "        print(j,end=\"\")\n",
    "    print()"
   ]
  },
  {
   "cell_type": "markdown",
   "id": "f52f7cc7",
   "metadata": {},
   "source": [
    "# sum or product"
   ]
  },
  {
   "cell_type": "code",
   "execution_count": 7,
   "id": "7cb7e677",
   "metadata": {},
   "outputs": [
    {
     "name": "stdout",
     "output_type": "stream",
     "text": [
      "10\n",
      "4\n",
      "-1\n"
     ]
    }
   ],
   "source": [
    "n=int(input())\n",
    "c=int(input())\n",
    "if(c==1):\n",
    "    print(int((n*(n+1))/2))\n",
    "elif(c==2):\n",
    "    p = 1\n",
    "    for i in range(1,n+1):\n",
    "        p = p*i\n",
    "    print(p)\n",
    "else:\n",
    "    print(-1)"
   ]
  },
  {
   "cell_type": "markdown",
   "id": "90391742",
   "metadata": {},
   "source": [
    "# prime numbers from 1 to n"
   ]
  },
  {
   "cell_type": "code",
   "execution_count": 10,
   "id": "7a85616b",
   "metadata": {},
   "outputs": [
    {
     "name": "stdout",
     "output_type": "stream",
     "text": [
      "50\n",
      "2\n",
      "3\n",
      "5\n",
      "7\n",
      "11\n",
      "13\n",
      "17\n",
      "19\n",
      "23\n",
      "29\n",
      "31\n",
      "37\n",
      "41\n",
      "43\n",
      "47\n"
     ]
    }
   ],
   "source": [
    "n=int(input())\n",
    "k = 2\n",
    "while(k<=n):\n",
    "    d=2\n",
    "    flag = False\n",
    "    while(d<k):\n",
    "        if(k%d==0):\n",
    "            flag=True\n",
    "            break\n",
    "        d=d+1\n",
    "    if(not(flag)):\n",
    "        print(k)\n",
    "    k=k+1"
   ]
  },
  {
   "cell_type": "markdown",
   "id": "fc8dd5a7",
   "metadata": {},
   "source": [
    "# square root(integral)"
   ]
  },
  {
   "cell_type": "code",
   "execution_count": 15,
   "id": "c9ad39e3",
   "metadata": {},
   "outputs": [
    {
     "name": "stdout",
     "output_type": "stream",
     "text": [
      "10\n",
      "3\n"
     ]
    }
   ],
   "source": [
    "n=int(input())\n",
    "square_root=(n)**(1/2)\n",
    "print(int(float(square_root)))"
   ]
  }
 ],
 "metadata": {
  "kernelspec": {
   "display_name": "Python 3 (ipykernel)",
   "language": "python",
   "name": "python3"
  },
  "language_info": {
   "codemirror_mode": {
    "name": "ipython",
    "version": 3
   },
   "file_extension": ".py",
   "mimetype": "text/x-python",
   "name": "python",
   "nbconvert_exporter": "python",
   "pygments_lexer": "ipython3",
   "version": "3.8.5"
  }
 },
 "nbformat": 4,
 "nbformat_minor": 5
}
