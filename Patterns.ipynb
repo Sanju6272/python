{
 "cells": [
  {
   "cell_type": "markdown",
   "id": "30409359",
   "metadata": {},
   "source": [
    "# Note : Printing for n values"
   ]
  },
  {
   "cell_type": "markdown",
   "id": "16cf8310",
   "metadata": {},
   "source": [
    "when you are printing any patterns you need to maintain two variables that is one for position and one for value"
   ]
  },
  {
   "cell_type": "code",
   "execution_count": 3,
   "id": "65403888",
   "metadata": {},
   "outputs": [
    {
     "name": "stdout",
     "output_type": "stream",
     "text": [
      "4\n",
      "****\n",
      "****\n",
      "****\n",
      "****\n"
     ]
    }
   ],
   "source": [
    "n = int(input())\n",
    "i = 1\n",
    "while i<=n:\n",
    "    j=1\n",
    "    while j<=n:\n",
    "        print('*',end='')\n",
    "        j = j+1\n",
    "    print()\n",
    "    i = i+1"
   ]
  },
  {
   "cell_type": "code",
   "execution_count": 6,
   "id": "a71a5ea3",
   "metadata": {},
   "outputs": [
    {
     "name": "stdout",
     "output_type": "stream",
     "text": [
      "4\n",
      "****4\n",
      "****4\n",
      "****4\n",
      "****4\n"
     ]
    }
   ],
   "source": [
    "n = int(input())\n",
    "i = 1\n",
    "while i<=n:\n",
    "    j=1\n",
    "    while j<=n:\n",
    "        print('*',end='')\n",
    "        j = j+1\n",
    "    print(end='4')\n",
    "    print()\n",
    "    i = i+1"
   ]
  },
  {
   "cell_type": "code",
   "execution_count": 7,
   "id": "2e88265c",
   "metadata": {},
   "outputs": [
    {
     "name": "stdout",
     "output_type": "stream",
     "text": [
      "3\n",
      "*1*1*1\n",
      "*1*1*1\n",
      "*1*1*1\n"
     ]
    }
   ],
   "source": [
    "n = int(input())\n",
    "i = 1\n",
    "while i<=n:\n",
    "    j=1\n",
    "    while j<=n:\n",
    "        print('*',end='1')\n",
    "        j = j+1\n",
    "    print()\n",
    "    i = i+1"
   ]
  },
  {
   "cell_type": "markdown",
   "id": "adf8f48c",
   "metadata": {},
   "source": [
    "# square pattern"
   ]
  },
  {
   "cell_type": "code",
   "execution_count": 1,
   "id": "67346368",
   "metadata": {},
   "outputs": [
    {
     "name": "stdout",
     "output_type": "stream",
     "text": [
      "6\n",
      "666666\n",
      "666666\n",
      "666666\n",
      "666666\n",
      "666666\n",
      "666666\n"
     ]
    }
   ],
   "source": [
    "n = int(input())\n",
    "i=1\n",
    "while(i<=n):\n",
    "    j=1\n",
    "    while(j<=n):\n",
    "        print(n,end=\"\")\n",
    "        j = j+1\n",
    "    print()\n",
    "    i=i+1"
   ]
  },
  {
   "cell_type": "code",
   "execution_count": 2,
   "id": "e9615285",
   "metadata": {},
   "outputs": [
    {
     "name": "stdout",
     "output_type": "stream",
     "text": [
      "6\n",
      "111111\n",
      "222222\n",
      "333333\n",
      "444444\n",
      "555555\n",
      "666666\n"
     ]
    }
   ],
   "source": [
    "n = int(input())\n",
    "i=1\n",
    "while(i<=n):\n",
    "    j=1\n",
    "    while(j<=n):\n",
    "        print(i,end=\"\")\n",
    "        j = j+1\n",
    "    print()\n",
    "    i=i+1"
   ]
  },
  {
   "cell_type": "code",
   "execution_count": 3,
   "id": "22979ca4",
   "metadata": {},
   "outputs": [
    {
     "name": "stdout",
     "output_type": "stream",
     "text": [
      "6\n",
      "123456\n",
      "123456\n",
      "123456\n",
      "123456\n",
      "123456\n",
      "123456\n"
     ]
    }
   ],
   "source": [
    "n = int(input())\n",
    "i=1\n",
    "while(i<=n):\n",
    "    j=1\n",
    "    while(j<=n):\n",
    "        print(j,end=\"\")\n",
    "        j = j+1\n",
    "    print()\n",
    "    i=i+1"
   ]
  },
  {
   "cell_type": "code",
   "execution_count": 5,
   "id": "c5335cfb",
   "metadata": {},
   "outputs": [
    {
     "name": "stdout",
     "output_type": "stream",
     "text": [
      "6\n",
      "654321\n",
      "654321\n",
      "654321\n",
      "654321\n",
      "654321\n",
      "654321\n"
     ]
    }
   ],
   "source": [
    "n = int(input())\n",
    "i=1\n",
    "while(i<=n):\n",
    "    j=1\n",
    "    while(j<=n):\n",
    "        print(n-j+1,end=\"\")\n",
    "        j = j+1\n",
    "    print()\n",
    "    i=i+1"
   ]
  },
  {
   "cell_type": "markdown",
   "id": "b1b75a12",
   "metadata": {},
   "source": [
    "# Triangular Patterns"
   ]
  },
  {
   "cell_type": "code",
   "execution_count": 8,
   "id": "62861d7d",
   "metadata": {},
   "outputs": [
    {
     "name": "stdout",
     "output_type": "stream",
     "text": [
      "6\n",
      "1\n",
      "21\n",
      "321\n",
      "4321\n",
      "54321\n",
      "654321\n"
     ]
    }
   ],
   "source": [
    "n = int(input())\n",
    "i=1\n",
    "while(i<=n):\n",
    "    j=1\n",
    "    k=i\n",
    "    while(j<=i):\n",
    "        print(k,end=\"\")\n",
    "        k=k-1\n",
    "        j=j+1\n",
    "    print()\n",
    "    i=i+1"
   ]
  },
  {
   "cell_type": "code",
   "execution_count": 1,
   "id": "3e87e2ff",
   "metadata": {},
   "outputs": [
    {
     "name": "stdout",
     "output_type": "stream",
     "text": [
      "6\n",
      "1\n",
      "23\n",
      "456\n",
      "78910\n",
      "1112131415\n",
      "161718192021\n"
     ]
    }
   ],
   "source": [
    "n = int(input())\n",
    "i=1\n",
    "k=1\n",
    "while(i<=n):\n",
    "    j=1\n",
    "    while(j<=i):\n",
    "        print(k,end=\"\")\n",
    "        k=k+1\n",
    "        j=j+1\n",
    "    print()\n",
    "    i=i+1"
   ]
  },
  {
   "cell_type": "markdown",
   "id": "da25eb6e",
   "metadata": {},
   "source": [
    "# Character patterns"
   ]
  },
  {
   "cell_type": "markdown",
   "id": "58604c1e",
   "metadata": {},
   "source": [
    "ord() gives ascii values for a character"
   ]
  },
  {
   "cell_type": "code",
   "execution_count": 2,
   "id": "c8f4a314",
   "metadata": {},
   "outputs": [
    {
     "data": {
      "text/plain": [
       "65"
      ]
     },
     "execution_count": 2,
     "metadata": {},
     "output_type": "execute_result"
    }
   ],
   "source": [
    "ord('A')"
   ]
  },
  {
   "cell_type": "code",
   "execution_count": 3,
   "id": "6433ee20",
   "metadata": {},
   "outputs": [
    {
     "data": {
      "text/plain": [
       "97"
      ]
     },
     "execution_count": 3,
     "metadata": {},
     "output_type": "execute_result"
    }
   ],
   "source": [
    "ord('a')"
   ]
  },
  {
   "cell_type": "markdown",
   "id": "58d78296",
   "metadata": {},
   "source": [
    "chr() gives character corresponding to ascii value"
   ]
  },
  {
   "cell_type": "code",
   "execution_count": 8,
   "id": "e2d2cb96",
   "metadata": {},
   "outputs": [
    {
     "data": {
      "text/plain": [
       "'A'"
      ]
     },
     "execution_count": 8,
     "metadata": {},
     "output_type": "execute_result"
    }
   ],
   "source": [
    "chr(65)"
   ]
  },
  {
   "cell_type": "code",
   "execution_count": 9,
   "id": "0397d339",
   "metadata": {},
   "outputs": [
    {
     "data": {
      "text/plain": [
       "'d'"
      ]
     },
     "execution_count": 9,
     "metadata": {},
     "output_type": "execute_result"
    }
   ],
   "source": [
    "chr(100)"
   ]
  },
  {
   "cell_type": "code",
   "execution_count": 11,
   "id": "c6601e4a",
   "metadata": {},
   "outputs": [
    {
     "name": "stdout",
     "output_type": "stream",
     "text": [
      "4\n",
      "ABCD\n",
      "ABCD\n",
      "ABCD\n",
      "ABCD\n"
     ]
    }
   ],
   "source": [
    "ascii_value = ord('A')\n",
    "n = int(input())\n",
    "i=1\n",
    "while(i<=n):\n",
    "    j=1\n",
    "    while(j<=n):\n",
    "        print(chr(ascii_value+j-1),end=\"\")\n",
    "        j=j+1\n",
    "    print()\n",
    "    i=i+1    "
   ]
  },
  {
   "cell_type": "code",
   "execution_count": 12,
   "id": "fbc864c3",
   "metadata": {},
   "outputs": [
    {
     "name": "stdout",
     "output_type": "stream",
     "text": [
      "5\n",
      "a\n",
      "bc\n",
      "def\n",
      "ghij\n",
      "klmno\n"
     ]
    }
   ],
   "source": [
    "ascii_value = ord('a')\n",
    "n = int(input())\n",
    "i=1\n",
    "k=1\n",
    "while(i<=n):\n",
    "    j=1\n",
    "    while(j<=i):\n",
    "        print(chr(ascii_value+k-1),end=\"\")\n",
    "        k=k+1\n",
    "        j=j+1\n",
    "    print()\n",
    "    i=i+1"
   ]
  },
  {
   "cell_type": "markdown",
   "id": "5a48aa0f",
   "metadata": {},
   "source": [
    "# Alpha pattern"
   ]
  },
  {
   "cell_type": "code",
   "execution_count": 13,
   "id": "02aef1a0",
   "metadata": {},
   "outputs": [
    {
     "name": "stdout",
     "output_type": "stream",
     "text": [
      "7\n",
      "A\n",
      "BB\n",
      "CCC\n",
      "DDDD\n",
      "EEEEE\n",
      "FFFFFF\n",
      "GGGGGGG\n"
     ]
    }
   ],
   "source": [
    "ascii_value=ord('A')\n",
    "n = int(input())\n",
    "i=1\n",
    "while(i<=n):\n",
    "    j=1\n",
    "    while(j<=i):\n",
    "        print(chr(ascii_value+i-1),end=\"\")\n",
    "        j=j+1\n",
    "    print()\n",
    "    i=i+1"
   ]
  },
  {
   "cell_type": "markdown",
   "id": "bf668d7a",
   "metadata": {},
   "source": [
    "# character pattern"
   ]
  },
  {
   "cell_type": "code",
   "execution_count": 14,
   "id": "23689b2a",
   "metadata": {},
   "outputs": [
    {
     "name": "stdout",
     "output_type": "stream",
     "text": [
      "6\n",
      "A\n",
      "BC\n",
      "CDE\n",
      "DEFG\n",
      "EFGHI\n",
      "FGHIJK\n"
     ]
    }
   ],
   "source": [
    "ascii_value=ord('A')\n",
    "n = int(input())\n",
    "i=1\n",
    "while(i<=n):\n",
    "    j=1\n",
    "    k=i\n",
    "    while(j<=i):\n",
    "        print(chr(ascii_value+k-1),end=\"\")\n",
    "        j=j+1\n",
    "        k=k+1\n",
    "    print()\n",
    "    i=i+1"
   ]
  },
  {
   "cell_type": "markdown",
   "id": "4900ecba",
   "metadata": {},
   "source": [
    "# Interesting Alphabets"
   ]
  },
  {
   "cell_type": "code",
   "execution_count": 1,
   "id": "56df9b23",
   "metadata": {},
   "outputs": [
    {
     "name": "stdout",
     "output_type": "stream",
     "text": [
      "5\n",
      "E\n",
      "DE\n",
      "CDE\n",
      "BCDE\n",
      "ABCDE\n"
     ]
    }
   ],
   "source": [
    "n = int(input())\n",
    "ascii_value = ord('A')\n",
    "i=1\n",
    "while(i<=n):\n",
    "    j=1\n",
    "    k=n-i\n",
    "    while(j<=i):\n",
    "        print(chr(ascii_value+k),end=\"\")\n",
    "        k=k+1\n",
    "        j=j+1\n",
    "    print()\n",
    "    i=i+1"
   ]
  },
  {
   "cell_type": "markdown",
   "id": "bf2b42ec",
   "metadata": {},
   "source": [
    "# Inverted Pattern"
   ]
  },
  {
   "cell_type": "code",
   "execution_count": 2,
   "id": "ae73b85a",
   "metadata": {},
   "outputs": [
    {
     "name": "stdout",
     "output_type": "stream",
     "text": [
      "5\n",
      "*****\n",
      "****\n",
      "***\n",
      "**\n",
      "*\n"
     ]
    }
   ],
   "source": [
    "n = int(input())\n",
    "i=1\n",
    "while(i<=n):\n",
    "    j=1\n",
    "    while j <=n-i+1:\n",
    "        print('*',end=\"\")\n",
    "        j=j+1\n",
    "    print()\n",
    "    i=i+1"
   ]
  },
  {
   "cell_type": "markdown",
   "id": "5d12bf20",
   "metadata": {},
   "source": [
    "# Inverted Number Pattern"
   ]
  },
  {
   "cell_type": "code",
   "execution_count": 4,
   "id": "eaa4e5c2",
   "metadata": {},
   "outputs": [
    {
     "name": "stdout",
     "output_type": "stream",
     "text": [
      "5\n",
      "55555\n",
      "4444\n",
      "333\n",
      "22\n",
      "1\n"
     ]
    }
   ],
   "source": [
    "n = int(input())\n",
    "i=1\n",
    "while(i<=n):\n",
    "    j=1\n",
    "    while(j<=n-i+1):\n",
    "        print(n-i+1,end=\"\")\n",
    "        j=j+1\n",
    "    print()\n",
    "    i=i+1"
   ]
  },
  {
   "cell_type": "markdown",
   "id": "390513cc",
   "metadata": {},
   "source": [
    "# Reversed pattern"
   ]
  },
  {
   "cell_type": "code",
   "execution_count": 1,
   "id": "c57b59e2",
   "metadata": {},
   "outputs": [
    {
     "name": "stdout",
     "output_type": "stream",
     "text": [
      "5\n",
      "    *\n",
      "   **\n",
      "  ***\n",
      " ****\n",
      "*****\n"
     ]
    }
   ],
   "source": [
    "n = int(input())\n",
    "i=1\n",
    "while(i<=n):\n",
    "    spaces=1\n",
    "    while(spaces<=n-i):\n",
    "        print(\" \",end=\"\")\n",
    "        spaces = spaces+1\n",
    "    stars=1\n",
    "    while(stars<=i):\n",
    "        print(\"*\",end=\"\")\n",
    "        stars=stars+1\n",
    "    print()\n",
    "    i=i+1"
   ]
  },
  {
   "cell_type": "markdown",
   "id": "8be4e28a",
   "metadata": {},
   "source": [
    "# Mirror number pattern"
   ]
  },
  {
   "cell_type": "code",
   "execution_count": 2,
   "id": "d83b66ef",
   "metadata": {},
   "outputs": [
    {
     "name": "stdout",
     "output_type": "stream",
     "text": [
      "5\n",
      "    1\n",
      "   12\n",
      "  123\n",
      " 1234\n",
      "12345\n"
     ]
    }
   ],
   "source": [
    "n = int(input())\n",
    "i=1\n",
    "while(i<=n):\n",
    "    spaces=1\n",
    "    while(spaces<=n-i):\n",
    "        print(\" \",end=\"\")\n",
    "        spaces = spaces+1\n",
    "    k=1\n",
    "    while(k<=i):\n",
    "        print(k,end=\"\")\n",
    "        k=k+1\n",
    "    print()\n",
    "    i=i+1"
   ]
  },
  {
   "cell_type": "markdown",
   "id": "c5c276a8",
   "metadata": {},
   "source": [
    "# Isosceles pattern"
   ]
  },
  {
   "cell_type": "code",
   "execution_count": 7,
   "id": "9d2cc34a",
   "metadata": {},
   "outputs": [
    {
     "name": "stdout",
     "output_type": "stream",
     "text": [
      "5\n",
      "    1\n",
      "   121\n",
      "  12321\n",
      " 1234321\n",
      "123454321\n"
     ]
    }
   ],
   "source": [
    "n = int(input())\n",
    "i=1\n",
    "while(i<=n):\n",
    "    spaces=1\n",
    "    while(spaces<=n-i):\n",
    "        print(\" \",end=\"\")\n",
    "        spaces = spaces+1\n",
    "    k=1\n",
    "    while(k<=i):\n",
    "        print(k,end=\"\")\n",
    "        k=k+1\n",
    "    l=i-1\n",
    "    while(l>=1):\n",
    "        print(l,end=\"\")\n",
    "        l=l-1\n",
    "    print()\n",
    "    i=i+1"
   ]
  },
  {
   "cell_type": "markdown",
   "id": "39080783",
   "metadata": {},
   "source": [
    "# syntax to print multiple times"
   ]
  },
  {
   "cell_type": "code",
   "execution_count": 20,
   "id": "de96a559",
   "metadata": {},
   "outputs": [
    {
     "name": "stdout",
     "output_type": "stream",
     "text": [
      "**********\n",
      "//////////\n"
     ]
    }
   ],
   "source": [
    "print(\"*\"*10)\n",
    "print(10*\"/\")"
   ]
  },
  {
   "cell_type": "markdown",
   "id": "01f68f02",
   "metadata": {},
   "source": [
    "# star pattern"
   ]
  },
  {
   "cell_type": "code",
   "execution_count": 17,
   "id": "9e453c1d",
   "metadata": {},
   "outputs": [
    {
     "name": "stdout",
     "output_type": "stream",
     "text": [
      "5\n",
      "    *\n",
      "   ***\n",
      "  *****\n",
      " *******\n",
      "*********\n"
     ]
    }
   ],
   "source": [
    "n = int(input())\n",
    "i=1\n",
    "while(i<=n):\n",
    "    spaces=1\n",
    "    while(spaces<=n-i):\n",
    "        print(' ',end='')\n",
    "        spaces=spaces+1\n",
    "    print('*'*(2*(i)-1))\n",
    "    i=i+1"
   ]
  },
  {
   "cell_type": "markdown",
   "id": "c20ae555",
   "metadata": {},
   "source": [
    "# Triangle of Numbers"
   ]
  },
  {
   "cell_type": "code",
   "execution_count": 22,
   "id": "5f31c70f",
   "metadata": {},
   "outputs": [
    {
     "name": "stdout",
     "output_type": "stream",
     "text": [
      "4\n",
      "   1\n",
      "  232\n",
      " 34543\n",
      "4567654\n"
     ]
    }
   ],
   "source": [
    "n = int(input())\n",
    "i=1\n",
    "while(i<=n):\n",
    "    spaces=1\n",
    "    while(spaces<=n-i):\n",
    "        print(\" \",end=\"\")\n",
    "        spaces = spaces+1\n",
    "    j=1\n",
    "    k=i\n",
    "    while(j<=i):\n",
    "        print(k,end=\"\")\n",
    "        k=k+1\n",
    "        j=j+1\n",
    "    l=2*(i-1)\n",
    "    m=1\n",
    "    while(m<=i-1):\n",
    "        print(l,end=\"\")\n",
    "        l=l-1\n",
    "        m=m+1\n",
    "    print()\n",
    "    i=i+1"
   ]
  },
  {
   "cell_type": "markdown",
   "id": "82f941d7",
   "metadata": {},
   "source": [
    "# Diamond of stars\n",
    "note : N is always odd"
   ]
  },
  {
   "cell_type": "code",
   "execution_count": 20,
   "id": "11879b74",
   "metadata": {},
   "outputs": [
    {
     "name": "stdout",
     "output_type": "stream",
     "text": [
      "9\n",
      "    *\n",
      "   ***\n",
      "  *****\n",
      " *******\n",
      "*********\n",
      " *******\n",
      "  *****\n",
      "   ***\n",
      "    *\n"
     ]
    }
   ],
   "source": [
    "n=int(input())\n",
    "i=1\n",
    "while(i<=n/2+1):\n",
    "    spaces=n/2+1-i\n",
    "    while(spaces>=1):\n",
    "        print(\" \",end=\"\")\n",
    "        spaces=spaces-1\n",
    "    print(\"*\"*int(2*(i-1)+1))\n",
    "    i=i+1\n",
    "j=1\n",
    "while(j<=n/2):\n",
    "    space=1\n",
    "    while(space<=j):\n",
    "        print(\" \",end=\"\")\n",
    "        space=space+1\n",
    "    print(\"*\"*int(2*(n/2-j)))\n",
    "    j=j+1"
   ]
  },
  {
   "cell_type": "code",
   "execution_count": null,
   "id": "0a528054",
   "metadata": {},
   "outputs": [],
   "source": []
  }
 ],
 "metadata": {
  "kernelspec": {
   "display_name": "Python 3 (ipykernel)",
   "language": "python",
   "name": "python3"
  },
  "language_info": {
   "codemirror_mode": {
    "name": "ipython",
    "version": 3
   },
   "file_extension": ".py",
   "mimetype": "text/x-python",
   "name": "python",
   "nbconvert_exporter": "python",
   "pygments_lexer": "ipython3",
   "version": "3.8.5"
  }
 },
 "nbformat": 4,
 "nbformat_minor": 5
}
