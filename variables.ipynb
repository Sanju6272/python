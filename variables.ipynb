{
 "cells": [
  {
   "cell_type": "markdown",
   "id": "8023229c",
   "metadata": {},
   "source": [
    "# variables"
   ]
  },
  {
   "cell_type": "markdown",
   "id": "c3757417",
   "metadata": {},
   "source": [
    "1. Starts or used at any point in variable with lower case alphabets or upper case alphabets or underscore\n",
    "2. Not start with numbers but used numbers in variable"
   ]
  },
  {
   "cell_type": "markdown",
   "id": "eee48386",
   "metadata": {},
   "source": [
    "Ex:"
   ]
  },
  {
   "cell_type": "code",
   "execution_count": 2,
   "id": "972a451d",
   "metadata": {},
   "outputs": [
    {
     "data": {
      "text/plain": [
       "1"
      ]
     },
     "execution_count": 2,
     "metadata": {},
     "output_type": "execute_result"
    }
   ],
   "source": [
    "a = 1\n",
    "a"
   ]
  },
  {
   "cell_type": "code",
   "execution_count": 5,
   "id": "56077809",
   "metadata": {},
   "outputs": [
    {
     "data": {
      "text/plain": [
       "2"
      ]
     },
     "execution_count": 5,
     "metadata": {},
     "output_type": "execute_result"
    }
   ],
   "source": [
    "_a23 = 2\n",
    "_a23"
   ]
  },
  {
   "cell_type": "code",
   "execution_count": 6,
   "id": "2533f148",
   "metadata": {},
   "outputs": [
    {
     "ename": "SyntaxError",
     "evalue": "invalid syntax (Temp/ipykernel_18024/167407203.py, line 1)",
     "output_type": "error",
     "traceback": [
      "\u001b[1;36m  File \u001b[1;32m\"C:\\Users\\Sanju\\AppData\\Local\\Temp/ipykernel_18024/167407203.py\"\u001b[1;36m, line \u001b[1;32m1\u001b[0m\n\u001b[1;33m    1a = 3\u001b[0m\n\u001b[1;37m     ^\u001b[0m\n\u001b[1;31mSyntaxError\u001b[0m\u001b[1;31m:\u001b[0m invalid syntax\n"
     ]
    }
   ],
   "source": [
    "1a = 3"
   ]
  },
  {
   "cell_type": "markdown",
   "id": "2f3c458f",
   "metadata": {},
   "source": [
    "look above its showing invalid syntax"
   ]
  },
  {
   "cell_type": "code",
   "execution_count": null,
   "id": "710d5b16",
   "metadata": {},
   "outputs": [],
   "source": []
  }
 ],
 "metadata": {
  "kernelspec": {
   "display_name": "Python 3 (ipykernel)",
   "language": "python",
   "name": "python3"
  },
  "language_info": {
   "codemirror_mode": {
    "name": "ipython",
    "version": 3
   },
   "file_extension": ".py",
   "mimetype": "text/x-python",
   "name": "python",
   "nbconvert_exporter": "python",
   "pygments_lexer": "ipython3",
   "version": "3.8.5"
  }
 },
 "nbformat": 4,
 "nbformat_minor": 5
}
