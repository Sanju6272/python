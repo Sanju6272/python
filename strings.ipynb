{
 "cells": [
  {
   "cell_type": "markdown",
   "id": "287f9509",
   "metadata": {},
   "source": [
    "strings are immutable and we cannot change once it created"
   ]
  },
  {
   "cell_type": "code",
   "execution_count": 2,
   "id": "2eae88ae",
   "metadata": {},
   "outputs": [
    {
     "data": {
      "text/plain": [
       "'abcd'"
      ]
     },
     "execution_count": 2,
     "metadata": {},
     "output_type": "execute_result"
    }
   ],
   "source": [
    "a=\"abcd\"\n",
    "a"
   ]
  },
  {
   "cell_type": "code",
   "execution_count": 5,
   "id": "0c4be08b",
   "metadata": {},
   "outputs": [
    {
     "name": "stdout",
     "output_type": "stream",
     "text": [
      "<class 'str'>a\n",
      "<class 'str'>b\n",
      "<class 'str'>c\n",
      "<class 'str'>d\n"
     ]
    }
   ],
   "source": [
    "for i in a:\n",
    "    print(type(i),end=\"\")\n",
    "    print(i)"
   ]
  },
  {
   "cell_type": "code",
   "execution_count": 6,
   "id": "233347ad",
   "metadata": {},
   "outputs": [
    {
     "name": "stdout",
     "output_type": "stream",
     "text": [
      "true\n"
     ]
    }
   ],
   "source": [
    "from sys import stdin\n",
    "def isPalindrome(string) :\n",
    "    a=(\"\".join(reversed(string)))\n",
    "    if(a==string):\n",
    "        return 1\n",
    "    else:\n",
    "        return 0\n",
    "\n",
    "string = stdin.readline().strip();\n",
    "ans = isPalindrome(string)\n",
    "\n",
    "if ans :\n",
    "    print('true')\n",
    "else :\n",
    "    print('false')"
   ]
  },
  {
   "cell_type": "code",
   "execution_count": 2,
   "id": "01e2ab07",
   "metadata": {},
   "outputs": [
    {
     "name": "stdout",
     "output_type": "stream",
     "text": [
      "zxcv\n"
     ]
    },
    {
     "data": {
      "text/plain": [
       "'zycv'"
      ]
     },
     "execution_count": 2,
     "metadata": {},
     "output_type": "execute_result"
    }
   ],
   "source": [
    "#replace first occurance of a with b\n",
    "s = input()\n",
    "a = 'x'\n",
    "b = 'y'\n",
    "p = s.find(a)\n",
    "ans = s\n",
    "if p==1:\n",
    "    ans = s[:p]+b+s[p+1:]\n",
    "ans"
   ]
  },
  {
   "cell_type": "code",
   "execution_count": 8,
   "id": "69cde8be",
   "metadata": {},
   "outputs": [
    {
     "name": "stdout",
     "output_type": "stream",
     "text": [
      "asxdsxfx\n"
     ]
    },
    {
     "data": {
      "text/plain": [
       "'asydsyfy'"
      ]
     },
     "execution_count": 8,
     "metadata": {},
     "output_type": "execute_result"
    }
   ],
   "source": [
    "#replace all occurance of a with b\n",
    "s = input()\n",
    "a = 'x'\n",
    "b = 'y'\n",
    "ans=s\n",
    "for i in range(0,len(ans)):\n",
    "    if ans[i]==a:\n",
    "        ans = ans[:i]+b+ans[i+1:]\n",
    "ans"
   ]
  },
  {
   "cell_type": "code",
   "execution_count": 4,
   "id": "1668c3f6",
   "metadata": {},
   "outputs": [
    {
     "data": {
      "text/plain": [
       "'hii i am sanju'"
      ]
     },
     "execution_count": 4,
     "metadata": {},
     "output_type": "execute_result"
    }
   ],
   "source": [
    "a = \"hii i am sanju\"\n",
    "a"
   ]
  },
  {
   "cell_type": "code",
   "execution_count": 5,
   "id": "3c8ee4f7",
   "metadata": {},
   "outputs": [
    {
     "data": {
      "text/plain": [
       "['hii', 'i', 'am', 'sanju']"
      ]
     },
     "execution_count": 5,
     "metadata": {},
     "output_type": "execute_result"
    }
   ],
   "source": [
    "a.split()"
   ]
  },
  {
   "cell_type": "code",
   "execution_count": 8,
   "id": "28f7d81d",
   "metadata": {},
   "outputs": [
    {
     "data": {
      "text/plain": [
       "['h', '', ' ', ' am sanju']"
      ]
     },
     "execution_count": 8,
     "metadata": {},
     "output_type": "execute_result"
    }
   ],
   "source": [
    "a.split(\"i\")"
   ]
  },
  {
   "cell_type": "code",
   "execution_count": 10,
   "id": "000a379a",
   "metadata": {},
   "outputs": [
    {
     "data": {
      "text/plain": [
       "'hII I am sanju'"
      ]
     },
     "execution_count": 10,
     "metadata": {},
     "output_type": "execute_result"
    }
   ],
   "source": [
    "a.replace(\"i\",\"I\")"
   ]
  },
  {
   "cell_type": "code",
   "execution_count": 11,
   "id": "fc165f88",
   "metadata": {},
   "outputs": [
    {
     "data": {
      "text/plain": [
       "9"
      ]
     },
     "execution_count": 11,
     "metadata": {},
     "output_type": "execute_result"
    }
   ],
   "source": [
    "a.find(\"san\")"
   ]
  },
  {
   "cell_type": "code",
   "execution_count": 12,
   "id": "03c15c38",
   "metadata": {},
   "outputs": [
    {
     "name": "stdout",
     "output_type": "stream",
     "text": [
      "hii i am sanju\n",
      "HII I AM SANJU\n"
     ]
    }
   ],
   "source": [
    "print(a.lower())\n",
    "print(a.upper())"
   ]
  },
  {
   "cell_type": "markdown",
   "id": "3792eab1",
   "metadata": {},
   "source": [
    "# print all substring"
   ]
  },
  {
   "cell_type": "code",
   "execution_count": 16,
   "id": "cb21e75d",
   "metadata": {},
   "outputs": [
    {
     "name": "stdout",
     "output_type": "stream",
     "text": [
      "abc\n",
      "a\n",
      "ab\n",
      "b\n",
      "abc\n",
      "bc\n",
      "c\n"
     ]
    }
   ],
   "source": [
    "def printSubstrings(string) :\n",
    "    for i in range(1,len(string)+1):\n",
    "        for j in range(i):\n",
    "            print(string[j:i])\n",
    "\n",
    "string=input()\n",
    "printSubstrings(string)"
   ]
  },
  {
   "cell_type": "markdown",
   "id": "2cd08972",
   "metadata": {},
   "source": [
    "# removeConsecutiveDuplicates"
   ]
  },
  {
   "cell_type": "code",
   "execution_count": 7,
   "id": "577d1de7",
   "metadata": {},
   "outputs": [
    {
     "name": "stdout",
     "output_type": "stream",
     "text": [
      "kkkkksssskkk\n",
      "ksk\n"
     ]
    }
   ],
   "source": [
    "def removeConsecutiveDuplicates(string) :\n",
    "    res=string[0]\n",
    "    ans=string[0]\n",
    "    for i in string[1:]:\n",
    "        if(i!=res):\n",
    "            ans+=i\n",
    "            res=i\n",
    "    return ans\n",
    "\n",
    "string=input()\n",
    "ans = removeConsecutiveDuplicates(string)\n",
    "print(ans)"
   ]
  },
  {
   "cell_type": "markdown",
   "id": "d567798d",
   "metadata": {},
   "source": [
    "# reverse_each_word\n",
    "here am going to execute step by step"
   ]
  },
  {
   "cell_type": "code",
   "execution_count": 15,
   "id": "bb1aa6d6",
   "metadata": {},
   "outputs": [
    {
     "name": "stdout",
     "output_type": "stream",
     "text": [
      "i am sanju\n",
      "['i', 'am', 'sanju']\n"
     ]
    }
   ],
   "source": [
    "def reverse_each_word(string):\n",
    "    words=string.split()\n",
    "    print(words)\n",
    "    \n",
    "\n",
    "n=input()\n",
    "reverse_each_word(n)"
   ]
  },
  {
   "cell_type": "code",
   "execution_count": 26,
   "id": "9faaf527",
   "metadata": {},
   "outputs": [
    {
     "name": "stdout",
     "output_type": "stream",
     "text": [
      "i am sanju\n",
      "i ma ujnas "
     ]
    }
   ],
   "source": [
    "def reverse_each_word(string):\n",
    "    words=string.split()\n",
    "    for i in words:\n",
    "        i=\"\".join(reversed(i))\n",
    "        print(i,end=\" \")\n",
    "\n",
    "n=input()\n",
    "reverse_each_word(n)"
   ]
  },
  {
   "cell_type": "code",
   "execution_count": 19,
   "id": "217e6613",
   "metadata": {},
   "outputs": [
    {
     "name": "stdout",
     "output_type": "stream",
     "text": [
      "i am sanju\n",
      "i ma ujnas\n"
     ]
    }
   ],
   "source": [
    "def reverseEachWord(string) :\n",
    "    words = string.split(\" \")\n",
    "    newwords=[word[::-1] for word in words]\n",
    "    newstring=\" \".join(newwords)\n",
    "    return newstring\n",
    "    \n",
    "n=input()\n",
    "print(reverseEachWord(n))"
   ]
  }
 ],
 "metadata": {
  "kernelspec": {
   "display_name": "Python 3 (ipykernel)",
   "language": "python",
   "name": "python3"
  },
  "language_info": {
   "codemirror_mode": {
    "name": "ipython",
    "version": 3
   },
   "file_extension": ".py",
   "mimetype": "text/x-python",
   "name": "python",
   "nbconvert_exporter": "python",
   "pygments_lexer": "ipython3",
   "version": "3.8.5"
  }
 },
 "nbformat": 4,
 "nbformat_minor": 5
}
