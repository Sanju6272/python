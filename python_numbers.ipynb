{
 "cells": [
  {
   "cell_type": "markdown",
   "id": "7a79c321",
   "metadata": {},
   "source": [
    "# python numbers"
   ]
  },
  {
   "cell_type": "code",
   "execution_count": 1,
   "id": "4942652a",
   "metadata": {},
   "outputs": [
    {
     "name": "stdout",
     "output_type": "stream",
     "text": [
      "<class 'int'>\n",
      "<class 'float'>\n",
      "<class 'complex'>\n"
     ]
    }
   ],
   "source": [
    "a1 = 23\n",
    "a2 = 4.5\n",
    "a3 = 3+6j\n",
    "print(type(a1))\n",
    "print(type(a2))\n",
    "print(type(a3))"
   ]
  },
  {
   "cell_type": "code",
   "execution_count": 3,
   "id": "8bcd814f",
   "metadata": {},
   "outputs": [
    {
     "name": "stdout",
     "output_type": "stream",
     "text": [
      "140712794859584\n",
      "140712794859616\n"
     ]
    }
   ],
   "source": [
    "a = 10\n",
    "print(id(a))\n",
    "a = a+1\n",
    "print(id(a))"
   ]
  },
  {
   "cell_type": "markdown",
   "id": "0fa5d8ff",
   "metadata": {},
   "source": [
    "#  -5 to 256 have same storage"
   ]
  },
  {
   "cell_type": "markdown",
   "id": "2d9afd5b",
   "metadata": {},
   "source": [
    "numbers with in this range have same id because of numbers in that range is common so python done optimization in it"
   ]
  },
  {
   "cell_type": "code",
   "execution_count": 6,
   "id": "630483de",
   "metadata": {},
   "outputs": [
    {
     "name": "stdout",
     "output_type": "stream",
     "text": [
      "140712794859584\n",
      "140712794859584\n"
     ]
    }
   ],
   "source": [
    "a = 10\n",
    "print(id(a))\n",
    "b = 10\n",
    "print(id(b))"
   ]
  },
  {
   "cell_type": "markdown",
   "id": "aee21374",
   "metadata": {},
   "source": [
    "numbers out of range b/w -5 to 256 have different id's"
   ]
  },
  {
   "cell_type": "code",
   "execution_count": 7,
   "id": "4e4f657e",
   "metadata": {},
   "outputs": [
    {
     "name": "stdout",
     "output_type": "stream",
     "text": [
      "2653300395088\n",
      "2653300394576\n"
     ]
    }
   ],
   "source": [
    "a = 1000\n",
    "b = 1000\n",
    "print(id(a))\n",
    "print(id(b))"
   ]
  },
  {
   "cell_type": "code",
   "execution_count": 11,
   "id": "87ba0662",
   "metadata": {},
   "outputs": [
    {
     "name": "stdout",
     "output_type": "stream",
     "text": [
      "140712794859584\n",
      "140712794859584\n"
     ]
    }
   ],
   "source": [
    "a = 10\n",
    "id1 = id(a)\n",
    "b = a + 2-2\n",
    "print(id1)\n",
    "print(id(b))"
   ]
  }
 ],
 "metadata": {
  "kernelspec": {
   "display_name": "Python 3 (ipykernel)",
   "language": "python",
   "name": "python3"
  },
  "language_info": {
   "codemirror_mode": {
    "name": "ipython",
    "version": 3
   },
   "file_extension": ".py",
   "mimetype": "text/x-python",
   "name": "python",
   "nbconvert_exporter": "python",
   "pygments_lexer": "ipython3",
   "version": "3.8.5"
  }
 },
 "nbformat": 4,
 "nbformat_minor": 5
}
