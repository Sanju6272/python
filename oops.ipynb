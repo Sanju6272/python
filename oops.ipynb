{
 "cells": [
  {
   "cell_type": "code",
   "execution_count": 2,
   "id": "d1f8dd29",
   "metadata": {},
   "outputs": [
    {
     "name": "stdout",
     "output_type": "stream",
     "text": [
      "<class 'int'>\n"
     ]
    }
   ],
   "source": [
    "a=10\n",
    "print(type(a))"
   ]
  },
  {
   "cell_type": "markdown",
   "id": "7f0e7f61",
   "metadata": {},
   "source": [
    "    # Attributes\n",
    "1.Instance attributes:\n",
    "        ->name,age\n",
    "2.Class attributes:\n",
    "        ->class_teacher_name,total_students"
   ]
  },
  {
   "cell_type": "code",
   "execution_count": 3,
   "id": "bbbdeae9",
   "metadata": {},
   "outputs": [],
   "source": [
    "class Student :\n",
    "    pass\n",
    "    \n",
    "s1 = Student()\n",
    "s2 = Student()\n",
    "s3 = Student()"
   ]
  },
  {
   "cell_type": "markdown",
   "id": "6c832e91",
   "metadata": {},
   "source": [
    "# Instance attributes"
   ]
  },
  {
   "cell_type": "code",
   "execution_count": 10,
   "id": "b5e3d602",
   "metadata": {},
   "outputs": [],
   "source": [
    "s1.name='Mohit'\n",
    "s1.age=20"
   ]
  },
  {
   "cell_type": "code",
   "execution_count": 11,
   "id": "31358f26",
   "metadata": {},
   "outputs": [],
   "source": [
    "s2.rollNumber=101"
   ]
  },
  {
   "cell_type": "code",
   "execution_count": 12,
   "id": "9a2c38b2",
   "metadata": {},
   "outputs": [],
   "source": [
    "s3.age=21"
   ]
  },
  {
   "cell_type": "code",
   "execution_count": 14,
   "id": "6a2193f6",
   "metadata": {},
   "outputs": [
    {
     "name": "stdout",
     "output_type": "stream",
     "text": [
      "{'name': 'Mohit', 'age': 20}\n",
      "{'rollNumber': 101, 'age': 21}\n",
      "{'age': 21}\n"
     ]
    }
   ],
   "source": [
    "print(s1.__dict__)\n",
    "print(s2.__dict__)\n",
    "print(s3.__dict__)"
   ]
  },
  {
   "cell_type": "code",
   "execution_count": 15,
   "id": "9d437bd0",
   "metadata": {},
   "outputs": [
    {
     "name": "stdout",
     "output_type": "stream",
     "text": [
      "{}\n"
     ]
    }
   ],
   "source": [
    "s4 = Student()\n",
    "print(s4.__dict__)"
   ]
  },
  {
   "cell_type": "code",
   "execution_count": 16,
   "id": "911cbe73",
   "metadata": {},
   "outputs": [
    {
     "name": "stdout",
     "output_type": "stream",
     "text": [
      "Mohit\n"
     ]
    }
   ],
   "source": [
    "print(s1.name)"
   ]
  },
  {
   "cell_type": "code",
   "execution_count": 17,
   "id": "13d6d583",
   "metadata": {},
   "outputs": [
    {
     "data": {
      "text/plain": [
       "True"
      ]
     },
     "execution_count": 17,
     "metadata": {},
     "output_type": "execute_result"
    }
   ],
   "source": [
    "hasattr(s1,'name')"
   ]
  },
  {
   "cell_type": "code",
   "execution_count": 18,
   "id": "24535aba",
   "metadata": {},
   "outputs": [
    {
     "data": {
      "text/plain": [
       "False"
      ]
     },
     "execution_count": 18,
     "metadata": {},
     "output_type": "execute_result"
    }
   ],
   "source": [
    "hasattr(s2,'name')"
   ]
  },
  {
   "cell_type": "code",
   "execution_count": 19,
   "id": "a43237ad",
   "metadata": {},
   "outputs": [],
   "source": [
    "setattr(s2, 'name','aman')"
   ]
  },
  {
   "cell_type": "code",
   "execution_count": 20,
   "id": "b2688043",
   "metadata": {},
   "outputs": [
    {
     "data": {
      "text/plain": [
       "{'rollNumber': 101, 'age': 21, 'name': 'aman'}"
      ]
     },
     "execution_count": 20,
     "metadata": {},
     "output_type": "execute_result"
    }
   ],
   "source": [
    "s2.__dict__"
   ]
  },
  {
   "cell_type": "code",
   "execution_count": 21,
   "id": "19289425",
   "metadata": {},
   "outputs": [
    {
     "data": {
      "text/plain": [
       "21"
      ]
     },
     "execution_count": 21,
     "metadata": {},
     "output_type": "execute_result"
    }
   ],
   "source": [
    "getattr(s3,'age',30)"
   ]
  },
  {
   "cell_type": "code",
   "execution_count": 22,
   "id": "a06a58c8",
   "metadata": {},
   "outputs": [
    {
     "data": {
      "text/plain": [
       "30"
      ]
     },
     "execution_count": 22,
     "metadata": {},
     "output_type": "execute_result"
    }
   ],
   "source": [
    "getattr(s4,'age',30)"
   ]
  },
  {
   "cell_type": "code",
   "execution_count": 23,
   "id": "a99f80da",
   "metadata": {},
   "outputs": [
    {
     "data": {
      "text/plain": [
       "{'age': 20}"
      ]
     },
     "execution_count": 23,
     "metadata": {},
     "output_type": "execute_result"
    }
   ],
   "source": [
    "delattr(s1,'name')\n",
    "s1.__dict__"
   ]
  },
  {
   "cell_type": "markdown",
   "id": "c7148ce8",
   "metadata": {},
   "source": [
    "# Class attributes"
   ]
  },
  {
   "cell_type": "code",
   "execution_count": 24,
   "id": "ebff9e8a",
   "metadata": {},
   "outputs": [
    {
     "name": "stdout",
     "output_type": "stream",
     "text": [
      "{'__module__': '__main__', '__dict__': <attribute '__dict__' of 'Student' objects>, '__weakref__': <attribute '__weakref__' of 'Student' objects>, '__doc__': None, 'totalstudents': 20}\n"
     ]
    }
   ],
   "source": [
    "Student.totalstudents=20\n",
    "print(Student.__dict__)"
   ]
  },
  {
   "cell_type": "code",
   "execution_count": 25,
   "id": "6e2e0550",
   "metadata": {},
   "outputs": [],
   "source": [
    "class Student :\n",
    "    # class attributes\n",
    "    totalstudents=20\n",
    "    classteachername='sanju'"
   ]
  },
  {
   "cell_type": "code",
   "execution_count": 26,
   "id": "02a86e1a",
   "metadata": {},
   "outputs": [],
   "source": [
    "s1=Student()\n",
    "s2=Student()"
   ]
  },
  {
   "cell_type": "code",
   "execution_count": 27,
   "id": "34473896",
   "metadata": {},
   "outputs": [
    {
     "name": "stdout",
     "output_type": "stream",
     "text": [
      "{'__module__': '__main__', 'totalstudents': 20, 'classteachername': 'sanju', '__dict__': <attribute '__dict__' of 'Student' objects>, '__weakref__': <attribute '__weakref__' of 'Student' objects>, '__doc__': None}\n"
     ]
    }
   ],
   "source": [
    "print(Student.__dict__)"
   ]
  },
  {
   "cell_type": "code",
   "execution_count": 29,
   "id": "ff9b6cad",
   "metadata": {},
   "outputs": [
    {
     "name": "stdout",
     "output_type": "stream",
     "text": [
      "{}\n",
      "{}\n"
     ]
    }
   ],
   "source": [
    "print(s1.__dict__)\n",
    "print(s2.__dict__)"
   ]
  },
  {
   "cell_type": "code",
   "execution_count": 30,
   "id": "7f2305d5",
   "metadata": {},
   "outputs": [
    {
     "name": "stdout",
     "output_type": "stream",
     "text": [
      "20\n"
     ]
    }
   ],
   "source": [
    "print(Student.totalstudents)"
   ]
  },
  {
   "cell_type": "code",
   "execution_count": 31,
   "id": "4795dcde",
   "metadata": {},
   "outputs": [
    {
     "name": "stdout",
     "output_type": "stream",
     "text": [
      "20\n",
      "20\n"
     ]
    }
   ],
   "source": [
    "print(s1.totalstudents)\n",
    "print(s2.totalstudents)"
   ]
  },
  {
   "cell_type": "code",
   "execution_count": 33,
   "id": "9c81d2d9",
   "metadata": {},
   "outputs": [],
   "source": [
    "Student.totalstudents=30"
   ]
  },
  {
   "cell_type": "code",
   "execution_count": 34,
   "id": "ae6853c5",
   "metadata": {},
   "outputs": [
    {
     "name": "stdout",
     "output_type": "stream",
     "text": [
      "30\n",
      "30\n",
      "30\n"
     ]
    }
   ],
   "source": [
    "print(Student.totalstudents)\n",
    "print(s1.totalstudents)\n",
    "print(s2.totalstudents)"
   ]
  },
  {
   "cell_type": "code",
   "execution_count": 35,
   "id": "be8b23a4",
   "metadata": {},
   "outputs": [],
   "source": [
    "s1.totalstudents=40"
   ]
  },
  {
   "cell_type": "code",
   "execution_count": 36,
   "id": "431c3982",
   "metadata": {},
   "outputs": [
    {
     "name": "stdout",
     "output_type": "stream",
     "text": [
      "30\n",
      "40\n",
      "30\n"
     ]
    }
   ],
   "source": [
    "print(Student.totalstudents)\n",
    "print(s1.totalstudents)\n",
    "print(s2.totalstudents)"
   ]
  },
  {
   "cell_type": "code",
   "execution_count": 37,
   "id": "6172d731",
   "metadata": {},
   "outputs": [
    {
     "name": "stdout",
     "output_type": "stream",
     "text": [
      "{'__module__': '__main__', 'totalstudents': 30, 'classteachername': 'sanju', '__dict__': <attribute '__dict__' of 'Student' objects>, '__weakref__': <attribute '__weakref__' of 'Student' objects>, '__doc__': None}\n",
      "{'totalstudents': 40}\n",
      "{}\n"
     ]
    }
   ],
   "source": [
    "print(Student.__dict__)\n",
    "print(s1.__dict__)\n",
    "print(s2.__dict__)"
   ]
  },
  {
   "cell_type": "markdown",
   "id": "8d6f2000",
   "metadata": {},
   "source": [
    "# Methods"
   ]
  },
  {
   "cell_type": "code",
   "execution_count": 52,
   "id": "5af998b8",
   "metadata": {},
   "outputs": [],
   "source": [
    "class Student :\n",
    "    # class attributes\n",
    "    totalstudents=20\n",
    "    classteachername='sanju'\n",
    "    \n",
    "    #instance methods\n",
    "    def printHello(self):\n",
    "        print(\"hello\")\n",
    "    \n",
    "    def print(self,str):\n",
    "        print(str)\n",
    "    \n",
    "    def printname(self):\n",
    "        print(self.name)\n",
    "    \n",
    "s1 = Student()\n",
    "s2 = Student()"
   ]
  },
  {
   "cell_type": "code",
   "execution_count": 44,
   "id": "8cba8676",
   "metadata": {},
   "outputs": [
    {
     "name": "stdout",
     "output_type": "stream",
     "text": [
      "hello\n",
      "hello1\n"
     ]
    }
   ],
   "source": [
    "s1.printHello()\n",
    "s1.print(\"hello1\")"
   ]
  },
  {
   "cell_type": "code",
   "execution_count": 47,
   "id": "0a126eb4",
   "metadata": {},
   "outputs": [
    {
     "name": "stdout",
     "output_type": "stream",
     "text": [
      "hello\n"
     ]
    }
   ],
   "source": [
    "Student.printHello(s1)"
   ]
  },
  {
   "cell_type": "code",
   "execution_count": 53,
   "id": "ae2103f8",
   "metadata": {},
   "outputs": [],
   "source": [
    "s1.name='sanju'"
   ]
  },
  {
   "cell_type": "code",
   "execution_count": 54,
   "id": "92f4da1b",
   "metadata": {},
   "outputs": [
    {
     "name": "stdout",
     "output_type": "stream",
     "text": [
      "sanju\n"
     ]
    }
   ],
   "source": [
    "s1.printname()"
   ]
  },
  {
   "cell_type": "code",
   "execution_count": 55,
   "id": "cafec000",
   "metadata": {},
   "outputs": [],
   "source": [
    "class Student :\n",
    "    # class attributes\n",
    "    totalstudents=20\n",
    "    classteachername='sanju'\n",
    "    \n",
    "    #instance methods\n",
    "    def printHello(self):\n",
    "        print(\"hello\")\n",
    "    \n",
    "    def print(self,str):\n",
    "        print(str)\n",
    "    \n",
    "    def printname(self):\n",
    "        print(self.name)\n",
    "        \n",
    "    def addname(self,name):\n",
    "        self.name=name\n",
    "    \n",
    "s1 = Student()\n",
    "s2 = Student()"
   ]
  },
  {
   "cell_type": "code",
   "execution_count": 56,
   "id": "b831a47a",
   "metadata": {},
   "outputs": [
    {
     "name": "stdout",
     "output_type": "stream",
     "text": [
      "{}\n"
     ]
    }
   ],
   "source": [
    "print(s1.__dict__)"
   ]
  },
  {
   "cell_type": "code",
   "execution_count": 57,
   "id": "140afff0",
   "metadata": {},
   "outputs": [
    {
     "name": "stdout",
     "output_type": "stream",
     "text": [
      "{'name': 'kumar'}\n"
     ]
    }
   ],
   "source": [
    "s1.addname('kumar')\n",
    "print(s1.__dict__)"
   ]
  },
  {
   "cell_type": "markdown",
   "id": "44772341",
   "metadata": {},
   "source": [
    "# Constructor"
   ]
  },
  {
   "cell_type": "code",
   "execution_count": 59,
   "id": "34933a8a",
   "metadata": {},
   "outputs": [
    {
     "name": "stdout",
     "output_type": "stream",
     "text": [
      "constructor is called\n",
      "constructor is called\n"
     ]
    }
   ],
   "source": [
    "class Student:\n",
    "    \n",
    "    #class attributes\n",
    "    \n",
    "    #constructors\n",
    "    def __init__(self):\n",
    "        print(\"constructor is called\")\n",
    "        pass\n",
    "s1=Student()\n",
    "s2=Student()"
   ]
  },
  {
   "cell_type": "code",
   "execution_count": 60,
   "id": "4c9e718e",
   "metadata": {},
   "outputs": [],
   "source": [
    "class Student:\n",
    "    \n",
    "    #class attributes\n",
    "    \n",
    "    #constructors\n",
    "    def __init__(self):\n",
    "        self.name='sanju'\n",
    "        self.age=20\n",
    "    \n",
    "s1=Student()\n",
    "s2=Student()"
   ]
  },
  {
   "cell_type": "code",
   "execution_count": 61,
   "id": "b2b43e41",
   "metadata": {},
   "outputs": [
    {
     "name": "stdout",
     "output_type": "stream",
     "text": [
      "{'name': 'sanju', 'age': 20}\n",
      "{'name': 'sanju', 'age': 20}\n"
     ]
    }
   ],
   "source": [
    "print(s1.__dict__)\n",
    "print(s2.__dict__)"
   ]
  },
  {
   "cell_type": "code",
   "execution_count": 64,
   "id": "6ad5e5d1",
   "metadata": {},
   "outputs": [],
   "source": [
    "class Student:\n",
    "    \n",
    "    #class attributes\n",
    "    \n",
    "    #constructors\n",
    "    def __init__(self,name,age):   #we can use the default arguments\n",
    "        self.name=name\n",
    "        self.age=age\n",
    "    \n",
    "s1=Student('sanju',20)\n",
    "s2=Student('kumar',22)"
   ]
  },
  {
   "cell_type": "code",
   "execution_count": 65,
   "id": "8cae0899",
   "metadata": {},
   "outputs": [
    {
     "name": "stdout",
     "output_type": "stream",
     "text": [
      "{'name': 'sanju', 'age': 20}\n",
      "{'name': 'kumar', 'age': 22}\n"
     ]
    }
   ],
   "source": [
    "print(s1.__dict__)\n",
    "print(s2.__dict__)"
   ]
  },
  {
   "cell_type": "code",
   "execution_count": null,
   "id": "67f8dcfa",
   "metadata": {},
   "outputs": [],
   "source": []
  },
  {
   "cell_type": "code",
   "execution_count": null,
   "id": "85a109d3",
   "metadata": {},
   "outputs": [],
   "source": []
  },
  {
   "cell_type": "code",
   "execution_count": 1,
   "id": "acc25a3c",
   "metadata": {},
   "outputs": [
    {
     "name": "stdout",
     "output_type": "stream",
     "text": [
      "{'age': 23, 'name': 'John Doe', 'gender': 'male'}\n"
     ]
    }
   ],
   "source": [
    "class sampleclass:\n",
    "    pass\n",
    "s1=sampleclass()\n",
    "setattr(s1,'age', 23 )\n",
    "setattr(s1, 'name', 'John Doe' )\n",
    "s1.gender ='male'\n",
    "print(s1.__dict__)"
   ]
  },
  {
   "cell_type": "code",
   "execution_count": 66,
   "id": "a88f33b9",
   "metadata": {},
   "outputs": [
    {
     "name": "stdout",
     "output_type": "stream",
     "text": [
      "1\n"
     ]
    }
   ],
   "source": [
    "class A:\n",
    "     def __init__(self):\n",
    "         self.x = 1\n",
    "         self.__y = 1\n",
    "     def getY(self):\n",
    "         return self.__y\n",
    "a = A()\n",
    "a.__y = 45\n",
    "print(a.getY())"
   ]
  },
  {
   "cell_type": "code",
   "execution_count": 73,
   "id": "73477d83",
   "metadata": {},
   "outputs": [
    {
     "name": "stdout",
     "output_type": "stream",
     "text": [
      "Rohan 20\n"
     ]
    }
   ],
   "source": [
    "class Student:\n",
    "     def __init__(self,name,age):\n",
    "        self.__name = name\n",
    "        self.age = age\n",
    "     def print_student_details(self):\n",
    "        print(self.__name, end= ' ')\n",
    "        print(self.age)\n",
    "s = Student('Rohan',20)\n",
    "s.print_student_details()"
   ]
  },
  {
   "cell_type": "code",
   "execution_count": 75,
   "id": "302abdba",
   "metadata": {},
   "outputs": [
    {
     "name": "stdout",
     "output_type": "stream",
     "text": [
      "True\n"
     ]
    }
   ],
   "source": [
    "class Student:\n",
    "    def __init__(self,name,age):\n",
    "        self.name = name\n",
    "        self.age = age\n",
    "    def print_student_details():\n",
    "        print(self.name, end= ' ')\n",
    "        print(self.age)\n",
    "\n",
    "    @staticmethod\n",
    "    def isTeen(age):\n",
    "        return age>16\n",
    "\n",
    "a = Student.isTeen(18)\n",
    "print(a)"
   ]
  }
 ],
 "metadata": {
  "kernelspec": {
   "display_name": "Python 3 (ipykernel)",
   "language": "python",
   "name": "python3"
  },
  "language_info": {
   "codemirror_mode": {
    "name": "ipython",
    "version": 3
   },
   "file_extension": ".py",
   "mimetype": "text/x-python",
   "name": "python",
   "nbconvert_exporter": "python",
   "pygments_lexer": "ipython3",
   "version": "3.8.5"
  }
 },
 "nbformat": 4,
 "nbformat_minor": 5
}
