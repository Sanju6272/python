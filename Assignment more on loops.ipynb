{
 "cells": [
  {
   "cell_type": "markdown",
   "id": "cc038050",
   "metadata": {},
   "source": [
    "# Decimal to Binary"
   ]
  },
  {
   "cell_type": "code",
   "execution_count": 1,
   "id": "0530b654",
   "metadata": {},
   "outputs": [
    {
     "name": "stdout",
     "output_type": "stream",
     "text": [
      "12\n",
      "1100\n"
     ]
    }
   ],
   "source": [
    "def decimalToBinary(n):\n",
    "    return bin(n).replace(\"0b\", \"\")\n",
    "if __name__ == '__main__':\n",
    "    n=int(input())\n",
    "    print(decimalToBinary(n))"
   ]
  },
  {
   "cell_type": "markdown",
   "id": "361f19ae",
   "metadata": {},
   "source": [
    "# Even fibonacci numbers"
   ]
  },
  {
   "cell_type": "code",
   "execution_count": 2,
   "id": "94154f8f",
   "metadata": {},
   "outputs": [
    {
     "name": "stdout",
     "output_type": "stream",
     "text": [
      "400\n",
      "188\n"
     ]
    }
   ],
   "source": [
    "def evenFibSum(limit) :\n",
    "    if (limit < 2) :\n",
    "        return 0\n",
    "    ef1 = 0\n",
    "    ef2 = 2\n",
    "    sm= ef1 + ef2\n",
    "    while (ef2 <= limit) :\n",
    "        ef3 = 4 * ef2 + ef1\n",
    "        if (ef3 > limit) :\n",
    "            break\n",
    "        ef1 = ef2\n",
    "        ef2 = ef3\n",
    "        sm = sm + ef2\n",
    "    return sm\n",
    "n=int(input())\n",
    "print(evenFibSum(n))"
   ]
  },
  {
   "cell_type": "markdown",
   "id": "599efe77",
   "metadata": {},
   "source": [
    "# Binary to decimal"
   ]
  },
  {
   "cell_type": "code",
   "execution_count": 5,
   "id": "b48550ed",
   "metadata": {},
   "outputs": [
    {
     "name": "stdout",
     "output_type": "stream",
     "text": [
      "111\n",
      "7\n"
     ]
    }
   ],
   "source": [
    "def binaryToDecimal(binary):\n",
    "    binary1 = binary\n",
    "    decimal, i, n = 0, 0, 0\n",
    "    while(binary != 0):\n",
    "        dec = binary % 10\n",
    "        decimal = decimal + dec * pow(2, i)\n",
    "        binary = binary//10\n",
    "        i += 1\n",
    "    print(decimal)   \n",
    "     \n",
    "if __name__ == '__main__':\n",
    "    n=int(input())\n",
    "    binaryToDecimal(n)"
   ]
  },
  {
   "cell_type": "markdown",
   "id": "e048f617",
   "metadata": {},
   "source": [
    "# Trailing zeros in n!"
   ]
  },
  {
   "cell_type": "code",
   "execution_count": 7,
   "id": "d7dc9000",
   "metadata": {},
   "outputs": [
    {
     "name": "stdout",
     "output_type": "stream",
     "text": [
      "50\n",
      "12\n"
     ]
    }
   ],
   "source": [
    "def findTrailingZeros(n):\n",
    "    count = 0\n",
    "    i = 5\n",
    "    while (n / i>= 1):\n",
    "        count += int(n / i)\n",
    "        i *= 5\n",
    "    return int(count)\n",
    "  \n",
    "n=int(input())\n",
    "print(findTrailingZeros(n))"
   ]
  }
 ],
 "metadata": {
  "kernelspec": {
   "display_name": "Python 3 (ipykernel)",
   "language": "python",
   "name": "python3"
  },
  "language_info": {
   "codemirror_mode": {
    "name": "ipython",
    "version": 3
   },
   "file_extension": ".py",
   "mimetype": "text/x-python",
   "name": "python",
   "nbconvert_exporter": "python",
   "pygments_lexer": "ipython3",
   "version": "3.8.5"
  }
 },
 "nbformat": 4,
 "nbformat_minor": 5
}
