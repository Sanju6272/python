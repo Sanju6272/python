{
 "cells": [
  {
   "cell_type": "markdown",
   "id": "ebb05f55",
   "metadata": {},
   "source": [
    "# fahrenheit to celsius convertion"
   ]
  },
  {
   "cell_type": "code",
   "execution_count": 2,
   "id": "84055930",
   "metadata": {},
   "outputs": [
    {
     "name": "stdout",
     "output_type": "stream",
     "text": [
      "0\n",
      "100\n",
      "20\n",
      "0 \t -17\n",
      "20 \t -6\n",
      "40 \t 4\n",
      "60 \t 15\n",
      "80 \t 26\n",
      "100 \t 37\n"
     ]
    }
   ],
   "source": [
    "s = int(input())\n",
    "e = int(input())\n",
    "w = int(input())\n",
    "\n",
    "while (s<=e):\n",
    "    ans = int((s-32)*5/9)\n",
    "    print(s,\"\\t\",ans)\n",
    "    s = s+w"
   ]
  },
  {
   "cell_type": "markdown",
   "id": "ec48f3bf",
   "metadata": {},
   "source": [
    "# calculator"
   ]
  },
  {
   "cell_type": "code",
   "execution_count": null,
   "id": "7fd87043",
   "metadata": {},
   "outputs": [],
   "source": [
    "while True:\n",
    "    n = int(input())\n",
    "    if(n==1):\n",
    "        a = int(input())\n",
    "        b = int(input())\n",
    "        print(a+b)\n",
    "    if(n==2):\n",
    "        a = int(input())\n",
    "        b = int(input())\n",
    "        print(a-b)\n",
    "    if(n==3):\n",
    "        a = int(input())\n",
    "        b = int(input())\n",
    "        print(a*b)\n",
    "    if(n==4):\n",
    "        a = int(input())\n",
    "        b = int(input())\n",
    "        print(a//b)\n",
    "    if(n==5):\n",
    "        a = int(input())\n",
    "        b = int(input())\n",
    "        print(a%b)\n",
    "    if(n==6):\n",
    "        exit()\n",
    "    if(n<1 or n>6):\n",
    "        print(\"Invalid Operation\")"
   ]
  },
  {
   "cell_type": "markdown",
   "id": "deee35ba",
   "metadata": {},
   "source": [
    "# reverse a number"
   ]
  },
  {
   "cell_type": "code",
   "execution_count": 5,
   "id": "d1635465",
   "metadata": {},
   "outputs": [
    {
     "name": "stdout",
     "output_type": "stream",
     "text": [
      "020\n",
      "20\n"
     ]
    }
   ],
   "source": [
    "n = input()\n",
    "ans  = int(\"\".join(reversed(n)))\n",
    "print(ans)"
   ]
  },
  {
   "cell_type": "code",
   "execution_count": 12,
   "id": "739ca4f2",
   "metadata": {},
   "outputs": [
    {
     "name": "stdout",
     "output_type": "stream",
     "text": [
      "121\n",
      "true\n"
     ]
    }
   ],
   "source": [
    "def checkPalindrome(num):\n",
    "    res = str(num)\n",
    "    ans = int(\"\".join(reversed(res)))\n",
    "    if num == ans:\n",
    "        return 1\n",
    "    else:\n",
    "        return 0\n",
    "\n",
    "num = int(input())\n",
    "isPalindrome = checkPalindrome(num)\n",
    "if(isPalindrome):\n",
    "    print('true')\n",
    "else:\n",
    "    print('false')\n"
   ]
  },
  {
   "cell_type": "markdown",
   "id": "59559928",
   "metadata": {},
   "source": [
    "# sum of digits in even places and odd places"
   ]
  },
  {
   "cell_type": "code",
   "execution_count": 8,
   "id": "1b54c1ed",
   "metadata": {},
   "outputs": [
    {
     "name": "stdout",
     "output_type": "stream",
     "text": [
      "552245\n",
      "12   11\n"
     ]
    }
   ],
   "source": [
    "n = input()\n",
    "o = 0\n",
    "e = 0\n",
    "if(len(n)%2==0):\n",
    "    m = int(n)\n",
    "    while(m>0):\n",
    "        e = e + (m%10)\n",
    "        m = m//10\n",
    "        if(m>0):\n",
    "            o = o + (m%10)\n",
    "            m = m//10\n",
    "    \n",
    "else:\n",
    "    m = int(n)\n",
    "    while(m>0):\n",
    "        o = o + (m%10)\n",
    "        m = m//10\n",
    "        if(m>0):\n",
    "            e = e + (m%10)\n",
    "            m = m//10\n",
    "        \n",
    "print(e,\" \",o)"
   ]
  },
  {
   "cell_type": "markdown",
   "id": "e908bb9a",
   "metadata": {},
   "source": [
    "# sum of even digits and odd digits"
   ]
  },
  {
   "cell_type": "code",
   "execution_count": 9,
   "id": "7084bb41",
   "metadata": {},
   "outputs": [
    {
     "name": "stdout",
     "output_type": "stream",
     "text": [
      "552245\n",
      "8   15\n"
     ]
    }
   ],
   "source": [
    "n = input()\n",
    "o = 0\n",
    "e = 0\n",
    "for i in n:\n",
    "    if(int(i)%2==0):\n",
    "        e = e + int(i)\n",
    "    else:\n",
    "        o = o + int(i)\n",
    "print(e,\" \",o)"
   ]
  },
  {
   "cell_type": "markdown",
   "id": "51069257",
   "metadata": {},
   "source": [
    "# Nth Fibonacci Number"
   ]
  },
  {
   "cell_type": "code",
   "execution_count": 2,
   "id": "db5eabe8",
   "metadata": {},
   "outputs": [
    {
     "name": "stdout",
     "output_type": "stream",
     "text": [
      "6\n",
      "8\n"
     ]
    }
   ],
   "source": [
    "n = int(input())\n",
    "n1 , n2 = 1,1\n",
    "i=1\n",
    "sum = 1\n",
    "if(n==1 or n==2):\n",
    "    print(sum)\n",
    "else:\n",
    "    while(i<=n-2):\n",
    "        sum=n1+n2\n",
    "        n1=n2\n",
    "        n2=sum\n",
    "        i=i+1\n",
    "    print(sum)"
   ]
  },
  {
   "cell_type": "code",
   "execution_count": null,
   "id": "fadf5086",
   "metadata": {},
   "outputs": [],
   "source": []
  }
 ],
 "metadata": {
  "kernelspec": {
   "display_name": "Python 3 (ipykernel)",
   "language": "python",
   "name": "python3"
  },
  "language_info": {
   "codemirror_mode": {
    "name": "ipython",
    "version": 3
   },
   "file_extension": ".py",
   "mimetype": "text/x-python",
   "name": "python",
   "nbconvert_exporter": "python",
   "pygments_lexer": "ipython3",
   "version": "3.8.5"
  }
 },
 "nbformat": 4,
 "nbformat_minor": 5
}
