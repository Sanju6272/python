{
 "cells": [
  {
   "cell_type": "code",
   "execution_count": 2,
   "id": "278d01e5",
   "metadata": {},
   "outputs": [],
   "source": [
    "a = [\"a\",1,True]"
   ]
  },
  {
   "cell_type": "code",
   "execution_count": 3,
   "id": "0d71f412",
   "metadata": {},
   "outputs": [
    {
     "data": {
      "text/plain": [
       "['a', 1, True]"
      ]
     },
     "execution_count": 3,
     "metadata": {},
     "output_type": "execute_result"
    }
   ],
   "source": [
    "a"
   ]
  },
  {
   "cell_type": "code",
   "execution_count": 5,
   "id": "adb90fb2",
   "metadata": {},
   "outputs": [],
   "source": [
    "a = [[1,2,3],\"add\",8]"
   ]
  },
  {
   "cell_type": "code",
   "execution_count": 6,
   "id": "4ce0e53a",
   "metadata": {},
   "outputs": [
    {
     "data": {
      "text/plain": [
       "[[1, 2, 3], 'add', 8]"
      ]
     },
     "execution_count": 6,
     "metadata": {},
     "output_type": "execute_result"
    }
   ],
   "source": [
    "a"
   ]
  },
  {
   "cell_type": "code",
   "execution_count": 7,
   "id": "8bec70b6",
   "metadata": {},
   "outputs": [
    {
     "name": "stdout",
     "output_type": "stream",
     "text": [
      "[2, 'add', 8]\n"
     ]
    }
   ],
   "source": [
    "a[0]=2\n",
    "print(a)"
   ]
  },
  {
   "cell_type": "code",
   "execution_count": 10,
   "id": "908c7fec",
   "metadata": {},
   "outputs": [
    {
     "data": {
      "text/plain": [
       "[1, 1, 2, 4]"
      ]
     },
     "execution_count": 10,
     "metadata": {},
     "output_type": "execute_result"
    }
   ],
   "source": [
    "a = list([1,1,2,4])\n",
    "a"
   ]
  },
  {
   "cell_type": "code",
   "execution_count": 12,
   "id": "efd7343b",
   "metadata": {},
   "outputs": [
    {
     "data": {
      "text/plain": [
       "[0, 1, 2, 3, 4, 5, 6, 7, 8, 9]"
      ]
     },
     "execution_count": 12,
     "metadata": {},
     "output_type": "execute_result"
    }
   ],
   "source": [
    "b = [i for i in range(10)]\n",
    "b"
   ]
  },
  {
   "cell_type": "code",
   "execution_count": 14,
   "id": "5b6acefd",
   "metadata": {},
   "outputs": [
    {
     "data": {
      "text/plain": [
       "[1, 1, 1, 1, 1, 1, 1, 1]"
      ]
     },
     "execution_count": 14,
     "metadata": {},
     "output_type": "execute_result"
    }
   ],
   "source": [
    "b = [1 for i in range(8)]\n",
    "b"
   ]
  },
  {
   "cell_type": "code",
   "execution_count": 15,
   "id": "2b576f4d",
   "metadata": {},
   "outputs": [
    {
     "data": {
      "text/plain": [
       "[1, 1, 4, 27, 256]"
      ]
     },
     "execution_count": 15,
     "metadata": {},
     "output_type": "execute_result"
    }
   ],
   "source": [
    "b = [i**i for i in range(5)]\n",
    "b "
   ]
  },
  {
   "cell_type": "code",
   "execution_count": 16,
   "id": "ed583cb1",
   "metadata": {},
   "outputs": [],
   "source": [
    "a = list(\"hello\")"
   ]
  },
  {
   "cell_type": "code",
   "execution_count": 17,
   "id": "b33234a2",
   "metadata": {},
   "outputs": [
    {
     "data": {
      "text/plain": [
       "['h', 'e', 'l', 'l', 'o']"
      ]
     },
     "execution_count": 17,
     "metadata": {},
     "output_type": "execute_result"
    }
   ],
   "source": [
    "a"
   ]
  },
  {
   "cell_type": "code",
   "execution_count": 18,
   "id": "ac79615a",
   "metadata": {},
   "outputs": [],
   "source": [
    "a.append(8)"
   ]
  },
  {
   "cell_type": "code",
   "execution_count": 19,
   "id": "72effd6a",
   "metadata": {},
   "outputs": [
    {
     "data": {
      "text/plain": [
       "['h', 'e', 'l', 'l', 'o', 8]"
      ]
     },
     "execution_count": 19,
     "metadata": {},
     "output_type": "execute_result"
    }
   ],
   "source": [
    "a"
   ]
  },
  {
   "cell_type": "code",
   "execution_count": 21,
   "id": "231115a6",
   "metadata": {},
   "outputs": [],
   "source": [
    "a.insert(0,4)"
   ]
  },
  {
   "cell_type": "code",
   "execution_count": 22,
   "id": "a2f631d2",
   "metadata": {},
   "outputs": [
    {
     "data": {
      "text/plain": [
       "[4, 'h', 'e', 'l', 'l', 'o', 8]"
      ]
     },
     "execution_count": 22,
     "metadata": {},
     "output_type": "execute_result"
    }
   ],
   "source": [
    "a"
   ]
  },
  {
   "cell_type": "code",
   "execution_count": 24,
   "id": "499c4731",
   "metadata": {},
   "outputs": [],
   "source": [
    "a.remove(4)"
   ]
  },
  {
   "cell_type": "code",
   "execution_count": 25,
   "id": "a6a3beed",
   "metadata": {},
   "outputs": [
    {
     "data": {
      "text/plain": [
       "['h', 'e', 'l', 'l', 'o', 8]"
      ]
     },
     "execution_count": 25,
     "metadata": {},
     "output_type": "execute_result"
    }
   ],
   "source": [
    "a"
   ]
  },
  {
   "cell_type": "code",
   "execution_count": 26,
   "id": "0db50430",
   "metadata": {},
   "outputs": [
    {
     "data": {
      "text/plain": [
       "'l'"
      ]
     },
     "execution_count": 26,
     "metadata": {},
     "output_type": "execute_result"
    }
   ],
   "source": [
    "a.pop(2)"
   ]
  },
  {
   "cell_type": "code",
   "execution_count": 27,
   "id": "32a7015a",
   "metadata": {},
   "outputs": [
    {
     "data": {
      "text/plain": [
       "['h', 'e', 'l', 'o', 8]"
      ]
     },
     "execution_count": 27,
     "metadata": {},
     "output_type": "execute_result"
    }
   ],
   "source": [
    "a"
   ]
  },
  {
   "cell_type": "code",
   "execution_count": 28,
   "id": "0fe19424",
   "metadata": {},
   "outputs": [],
   "source": [
    "del a[3]"
   ]
  },
  {
   "cell_type": "code",
   "execution_count": 29,
   "id": "aa91ccca",
   "metadata": {},
   "outputs": [
    {
     "data": {
      "text/plain": [
       "['h', 'e', 'l', 8]"
      ]
     },
     "execution_count": 29,
     "metadata": {},
     "output_type": "execute_result"
    }
   ],
   "source": [
    "a"
   ]
  },
  {
   "cell_type": "code",
   "execution_count": 34,
   "id": "e8943a80",
   "metadata": {},
   "outputs": [],
   "source": [
    "a = [6,4,1]\n",
    "a.sort()"
   ]
  },
  {
   "cell_type": "code",
   "execution_count": 35,
   "id": "54dd94b4",
   "metadata": {},
   "outputs": [
    {
     "data": {
      "text/plain": [
       "[1, 4, 6]"
      ]
     },
     "execution_count": 35,
     "metadata": {},
     "output_type": "execute_result"
    }
   ],
   "source": [
    "a"
   ]
  },
  {
   "cell_type": "code",
   "execution_count": 36,
   "id": "91ffdf07",
   "metadata": {},
   "outputs": [
    {
     "data": {
      "text/plain": [
       "6"
      ]
     },
     "execution_count": 36,
     "metadata": {},
     "output_type": "execute_result"
    }
   ],
   "source": [
    "max(a)"
   ]
  },
  {
   "cell_type": "code",
   "execution_count": 38,
   "id": "2468f836",
   "metadata": {},
   "outputs": [
    {
     "name": "stdout",
     "output_type": "stream",
     "text": [
      "7\n"
     ]
    }
   ],
   "source": [
    "b = [4,32,2,4,7]\n",
    "print(b.pop())"
   ]
  },
  {
   "cell_type": "code",
   "execution_count": 37,
   "id": "9ec249d2",
   "metadata": {},
   "outputs": [
    {
     "name": "stdout",
     "output_type": "stream",
     "text": [
      "abc\n"
     ]
    }
   ],
   "source": [
    "aList = [123, 'xyz', 'zara', 'abc'];\n",
    "print(aList.pop())"
   ]
  },
  {
   "cell_type": "markdown",
   "id": "774dbcaa",
   "metadata": {},
   "source": [
    "# swap alternative"
   ]
  },
  {
   "cell_type": "code",
   "execution_count": 42,
   "id": "7ddcd1a6",
   "metadata": {},
   "outputs": [
    {
     "name": "stdout",
     "output_type": "stream",
     "text": [
      "1 2 3 4 5\n",
      "[2, 1, 4, 3, 5]\n"
     ]
    }
   ],
   "source": [
    "def swap_alternative(arr):\n",
    "    i=0\n",
    "    while(i+1<len(arr)):\n",
    "        arr[i],arr[i+1]=arr[i+1],arr[i]\n",
    "        i=i+2\n",
    "    return arr\n",
    "        \n",
    "l = [int(s) for s in input().split()]\n",
    "print(swap_alternative(l))"
   ]
  },
  {
   "cell_type": "markdown",
   "id": "21abe551",
   "metadata": {},
   "source": [
    "reverse() function changes the list reverse\n",
    "[::-1] is not going to change list it just create give list in reverse "
   ]
  },
  {
   "cell_type": "code",
   "execution_count": 1,
   "id": "12bbb267",
   "metadata": {},
   "outputs": [],
   "source": [
    "a = [1,2,3,4,5]\n",
    "a.reverse()"
   ]
  },
  {
   "cell_type": "code",
   "execution_count": 2,
   "id": "f91a98c3",
   "metadata": {},
   "outputs": [
    {
     "data": {
      "text/plain": [
       "[5, 4, 3, 2, 1]"
      ]
     },
     "execution_count": 2,
     "metadata": {},
     "output_type": "execute_result"
    }
   ],
   "source": [
    "a"
   ]
  },
  {
   "cell_type": "code",
   "execution_count": 3,
   "id": "b8e77434",
   "metadata": {},
   "outputs": [
    {
     "data": {
      "text/plain": [
       "[1, 2, 3, 4, 5]"
      ]
     },
     "execution_count": 3,
     "metadata": {},
     "output_type": "execute_result"
    }
   ],
   "source": [
    "a[::-1]"
   ]
  },
  {
   "cell_type": "code",
   "execution_count": 4,
   "id": "19359b93",
   "metadata": {},
   "outputs": [
    {
     "data": {
      "text/plain": [
       "[5, 4, 3, 2, 1]"
      ]
     },
     "execution_count": 4,
     "metadata": {},
     "output_type": "execute_result"
    }
   ],
   "source": [
    "a"
   ]
  },
  {
   "cell_type": "code",
   "execution_count": 5,
   "id": "6054af81",
   "metadata": {},
   "outputs": [
    {
     "name": "stdout",
     "output_type": "stream",
     "text": [
      "[11, 12, 13, 14, 10, 20, 30, 40, 50, 60, 70, 80, 90]\n"
     ]
    }
   ],
   "source": [
    "r = [11, 12, 13, 14]\n",
    "A = [[0, 10, 20],\n",
    "     [30, 40, 50],\n",
    "     [60, 70, 80]]\n",
    "for row in A:\n",
    "    for col in row:\n",
    "        r.append(col+10)\n",
    "print(r)"
   ]
  },
  {
   "cell_type": "code",
   "execution_count": 1,
   "id": "bcd9cd69",
   "metadata": {},
   "outputs": [
    {
     "name": "stdout",
     "output_type": "stream",
     "text": [
      "[0, 10, 20]\n"
     ]
    }
   ],
   "source": [
    "A = [[0, 10, 20],\n",
    "       [30, 40, 50],\n",
    "       [60, 70, 80]]\n",
    "\n",
    "print(A[0:2][0])"
   ]
  },
  {
   "cell_type": "code",
   "execution_count": 2,
   "id": "f82b00a5",
   "metadata": {},
   "outputs": [
    {
     "name": "stdout",
     "output_type": "stream",
     "text": [
      "[10, 23, 56, [95]]\n"
     ]
    }
   ],
   "source": [
    "a = [10,23,56,[78]]\n",
    "b = list(a)\n",
    "a[3][0] = 95\n",
    "a[1] = 34\n",
    "print(b)"
   ]
  },
  {
   "cell_type": "code",
   "execution_count": 3,
   "id": "c3d39b4f",
   "metadata": {},
   "outputs": [
    {
     "name": "stdout",
     "output_type": "stream",
     "text": [
      "4\n",
      "4 4 4 4\n",
      "0\n",
      "6\n"
     ]
    }
   ],
   "source": [
    "def printPairDiffK(l, k):\n",
    "    count=0\n",
    "    for i in range(0,len(l)):\n",
    "        for j in range(i+1,len(l)):\n",
    "            if(l[i]-l[j]==k or l[j]-l[i]==k):\n",
    "                count+=1\n",
    "    return count\n",
    "    \n",
    "    \n",
    "# Main\n",
    "n=int(input())\n",
    "l=list(int(i) for i in input().strip().split(' '))\n",
    "k=int(input())\n",
    "print(printPairDiffK(l, k))"
   ]
  },
  {
   "cell_type": "code",
   "execution_count": null,
   "id": "1f674435",
   "metadata": {},
   "outputs": [],
   "source": []
  }
 ],
 "metadata": {
  "kernelspec": {
   "display_name": "Python 3 (ipykernel)",
   "language": "python",
   "name": "python3"
  },
  "language_info": {
   "codemirror_mode": {
    "name": "ipython",
    "version": 3
   },
   "file_extension": ".py",
   "mimetype": "text/x-python",
   "name": "python",
   "nbconvert_exporter": "python",
   "pygments_lexer": "ipython3",
   "version": "3.8.5"
  }
 },
 "nbformat": 4,
 "nbformat_minor": 5
}
