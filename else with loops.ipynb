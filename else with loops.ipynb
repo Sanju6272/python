{
 "cells": [
  {
   "cell_type": "code",
   "execution_count": 8,
   "id": "f5284e3b",
   "metadata": {},
   "outputs": [
    {
     "name": "stdout",
     "output_type": "stream",
     "text": [
      "1\n",
      "2\n",
      "3\n",
      "4\n",
      "while loop end before i = 5\n"
     ]
    }
   ],
   "source": [
    "i=1\n",
    "while(i<=4):\n",
    "    print(i)\n",
    "    i=i+1         #i value is incremented to 5 but not going to print because the condition fail at that point\n",
    "else:\n",
    "    print(\"while loop end before i =\",i)"
   ]
  },
  {
   "cell_type": "code",
   "execution_count": 9,
   "id": "61bf08cd",
   "metadata": {},
   "outputs": [
    {
     "name": "stdout",
     "output_type": "stream",
     "text": [
      "1\n",
      "2\n",
      "3\n",
      "4\n",
      "i am in else part\n"
     ]
    }
   ],
   "source": [
    "for i in range(1,5):\n",
    "    print(i)\n",
    "else:\n",
    "    print(\"i am in else part\")"
   ]
  },
  {
   "cell_type": "markdown",
   "id": "4e7bc6bb",
   "metadata": {},
   "source": [
    "else code will not be execute if your loop is terminate because of break statement"
   ]
  },
  {
   "cell_type": "code",
   "execution_count": 11,
   "id": "aae5954b",
   "metadata": {},
   "outputs": [
    {
     "name": "stdout",
     "output_type": "stream",
     "text": [
      "1\n",
      "2\n"
     ]
    }
   ],
   "source": [
    "i=1\n",
    "while(i<=4):\n",
    "    if(i==3):\n",
    "        break\n",
    "    print(i)\n",
    "    i=i+1\n",
    "else:\n",
    "    print(\"i am else\")"
   ]
  },
  {
   "cell_type": "code",
   "execution_count": 14,
   "id": "e22390d8",
   "metadata": {},
   "outputs": [
    {
     "name": "stdout",
     "output_type": "stream",
     "text": [
      "10\n"
     ]
    }
   ],
   "source": [
    "# print prime if n is prime else print nothing\n",
    "n=int(input())\n",
    "for d in range(2,n,1):\n",
    "    if(n%d==0):\n",
    "        break\n",
    "else:\n",
    "    print(\"prime\")"
   ]
  }
 ],
 "metadata": {
  "kernelspec": {
   "display_name": "Python 3 (ipykernel)",
   "language": "python",
   "name": "python3"
  },
  "language_info": {
   "codemirror_mode": {
    "name": "ipython",
    "version": 3
   },
   "file_extension": ".py",
   "mimetype": "text/x-python",
   "name": "python",
   "nbconvert_exporter": "python",
   "pygments_lexer": "ipython3",
   "version": "3.8.5"
  }
 },
 "nbformat": 4,
 "nbformat_minor": 5
}
