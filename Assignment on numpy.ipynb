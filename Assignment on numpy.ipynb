{
 "cells": [
  {
   "cell_type": "markdown",
   "id": "eeae762f",
   "metadata": {},
   "source": [
    "# Terrorism Day"
   ]
  },
  {
   "cell_type": "code",
   "execution_count": 2,
   "id": "e44bd6e1",
   "metadata": {},
   "outputs": [
    {
     "name": "stdout",
     "output_type": "stream",
     "text": [
      "66330\n"
     ]
    }
   ],
   "source": [
    "import csv\n",
    "import numpy as np\n",
    "path = 'terrorismData.csv'\n",
    "with open(path, encoding = 'ISO-8859-1') as file_obj:\n",
    "    csvData = csv.DictReader(file_obj)\n",
    "    days = []\n",
    "    for row in csvData:\n",
    "        days.append(row['Day'])\n",
    "np_days = np.array(days, dtype = 'float')\n",
    "np_days = np_days[(np_days >= 10) & (np_days <= 20)]\n",
    "print(np_days.shape[0])"
   ]
  },
  {
   "cell_type": "markdown",
   "id": "c73030ee",
   "metadata": {},
   "source": [
    "# Terrorism Date"
   ]
  },
  {
   "cell_type": "code",
   "execution_count": null,
   "id": "07aed1b6",
   "metadata": {},
   "outputs": [],
   "source": [
    "import csv\n",
    "import numpy as np\n",
    "\n",
    "with open('terrorismData.csv') as file_obj:\n",
    "    file_data=csv.DictReader(file_obj,skipinitialspace=True)\n",
    "    \n",
    "    day=[]\n",
    "    for row in file_data:\n",
    "        if(row['Month']=='1' and row['Year']=='2010'):\n",
    "            day.append(row['Day'])\n",
    "    \n",
    "    np_day=np.array(day,dtype=float)\n",
    "    np_day=np.array(np_day,dtype=int)\n",
    "    np_day=np_day[np_day!=0]\n",
    "    print(np_day.shape[0])"
   ]
  },
  {
   "cell_type": "markdown",
   "id": "8b95d9aa",
   "metadata": {},
   "source": [
    "# Terror Casualty Attack"
   ]
  },
  {
   "cell_type": "code",
   "execution_count": null,
   "id": "1f00074e",
   "metadata": {},
   "outputs": [],
   "source": [
    "import csv\n",
    "import numpy as np\n",
    "\n",
    "with open('terrorismData.csv') as file_obj:\n",
    "    file_data=csv.DictReader(file_obj)\n",
    "    \n",
    "    killed=[]\n",
    "    wounded=[]\n",
    "    group=[]\n",
    "    city=[]\n",
    "    \n",
    "    for row in file_data:\n",
    "        if(row['Year']=='1999'):\n",
    "            if(row['Month']=='5' or row['Month']=='6' or row['Month']=='7'):\n",
    "                if(row['City']!='Unknown' and row['Group']!='Unknown' and row['State']=='Jammu and Kashmir'):\n",
    "                    killed.append(row['Killed'])\n",
    "                    wounded.append(row['Wounded'])\n",
    "                    group.append(row['Group'])\n",
    "                    city.append(row['City'])\n",
    "    \n",
    "    np_killed=np.array(killed)\n",
    "    np_wounded=np.array(wounded)\n",
    "    np_group=np.array(group)\n",
    "    np_city=np.array(city)\n",
    "    \n",
    "    np_killed[np_killed=='']='0.0'\n",
    "    np_wounded[np_wounded=='']='0.0'\n",
    "    \n",
    "    np_killed=np.array(np_killed,dtype=float)\n",
    "    np_wounded=np.array(np_wounded,dtype=float)\n",
    "    \n",
    "    np_casualties=np.array(np_killed+np_wounded,dtype=float)\n",
    "    \n",
    "    np_casualties=np.array(np_casualties,dtype=int)\n",
    "    \n",
    "    ind = np_casualties.argmax()\n",
    "    \n",
    "    print(np_casualties[ind], np_city[ind], np_group[ind])"
   ]
  },
  {
   "cell_type": "markdown",
   "id": "9d678136",
   "metadata": {},
   "source": [
    "# Terror Casualty Red"
   ]
  },
  {
   "cell_type": "code",
   "execution_count": null,
   "id": "b8ec77cc",
   "metadata": {},
   "outputs": [],
   "source": [
    "import csv\n",
    "import numpy as np\n",
    "\n",
    "with open('terrorismData.csv') as file_obj:\n",
    "    file_data=csv.DictReader(file_obj,skipinitialspace=True)\n",
    "    \n",
    "    killed=[]\n",
    "    wounded=[]\n",
    "    \n",
    "    for row in file_data:\n",
    "        if(row['State']=='Jharkhand' or row['State']=='Odisha' or row['State']=='Andhra Pradesh' or row['State']=='Chhattisgarh'):\n",
    "            killed.append(row['Killed'])\n",
    "            wounded.append(row['Wounded'])\n",
    "            \n",
    "    np_killed=np.array(killed)\n",
    "    np_wounded=np.array(wounded)\n",
    "    \n",
    "    np_killed[np_killed=='']='0.0'\n",
    "    np_wounded[np_wounded=='']='0.0'\n",
    "    \n",
    "    np_killed=np.array(np_killed,dtype=float)\n",
    "    np_wounded=np.array(np_wounded,dtype=float)\n",
    "    \n",
    "    np_killed=np.array(np_killed,dtype=int)\n",
    "    np_wounded=np.array(np_wounded,dtype=int)\n",
    "    \n",
    "    np_casualty=np.array(np_killed+np_wounded,dtype=int)\n",
    "    print(np_casualty.sum())"
   ]
  },
  {
   "cell_type": "markdown",
   "id": "8c80b8dd",
   "metadata": {},
   "source": [
    "# Terror City Casualty"
   ]
  },
  {
   "cell_type": "code",
   "execution_count": null,
   "id": "6a314061",
   "metadata": {},
   "outputs": [],
   "source": [
    "import numpy as np\n",
    "import csv\n",
    "path = 'terrorismData.csv'\n",
    "casualty = []\n",
    "city = []\n",
    "with open(path, 'r', encoding='ISO-8859-1') as data:\n",
    "    reader = csv.DictReader(data)\n",
    "    for row in reader:\n",
    "        if row['Country'] == 'India':\n",
    "            city.append(row[\"City\"])\n",
    "            casualty.append([row['Killed'],row['Wounded']])\n",
    "                \n",
    "npcasualty=np.array(casualty)\n",
    "npcity=np.array(city)\n",
    "npcasualty[npcasualty=='']=0\n",
    "npcasualty = np.array(npcasualty, dtype=float)\n",
    "npcasualty = np.sum(npcasualty,axis=1)\n",
    "\n",
    "def cityCasualty(cityarr,casualtyarr):\n",
    "    arr = []\n",
    "    unique=np.unique(cityarr)\n",
    "    for i in unique:\n",
    "        index,=np.where(cityarr==i)\n",
    "        sumCasualty = casualtyarr[index].sum()\n",
    "        arr.append([sumCasualty,i])\n",
    "    arr.sort(reverse=True)\n",
    "    return arr\n",
    "arr = cityCasualty(npcity,npcasualty)\n",
    "for i in range(6):\n",
    "    if arr[i][1] != 'Unknown':\n",
    "        print(arr[i][1],int(arr[i][0]))"
   ]
  },
  {
   "cell_type": "markdown",
   "id": "ae8ec418",
   "metadata": {},
   "source": [
    "# Terrorism FrequentDay"
   ]
  },
  {
   "cell_type": "code",
   "execution_count": null,
   "id": "df0ebf85",
   "metadata": {},
   "outputs": [],
   "source": [
    "import csv\n",
    "import numpy as np\n",
    "\n",
    "with open('terrorismData.csv') as file_obj:\n",
    "    file_data=csv.DictReader(file_obj,skipinitialspace=True)\n",
    "    \n",
    "    l=[]\n",
    "    \n",
    "    for row in file_data:\n",
    "        l.append(row['Day'])\n",
    "        \n",
    "    d={}\n",
    "    \n",
    "    for i in l:\n",
    "        if i in d:\n",
    "            d[i]+=1\n",
    "        else:\n",
    "            d[i]=1\n",
    "    \n",
    "    l1=[]\n",
    "    l2=[]\n",
    "    \n",
    "    for i in d:\n",
    "        l1.append(i)\n",
    "        l2.append(d[i])\n",
    "        \n",
    "    np_day=np.array(l1)\n",
    "    np_noa=np.array(l2)\n",
    "    \n",
    "    np_day=np_day[np.argsort(np_noa)]\n",
    "    np_noa=np.sort(np_noa)\n",
    "    \n",
    "    print(np_day[len(np_day)-1],np_noa[len(np_noa)-1])"
   ]
  }
 ],
 "metadata": {
  "kernelspec": {
   "display_name": "Python 3 (ipykernel)",
   "language": "python",
   "name": "python3"
  },
  "language_info": {
   "codemirror_mode": {
    "name": "ipython",
    "version": 3
   },
   "file_extension": ".py",
   "mimetype": "text/x-python",
   "name": "python",
   "nbconvert_exporter": "python",
   "pygments_lexer": "ipython3",
   "version": "3.8.5"
  }
 },
 "nbformat": 4,
 "nbformat_minor": 5
}
