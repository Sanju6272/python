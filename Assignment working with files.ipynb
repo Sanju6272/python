{
 "cells": [
  {
   "cell_type": "markdown",
   "id": "85486a34",
   "metadata": {},
   "source": [
    "# job location"
   ]
  },
  {
   "cell_type": "code",
   "execution_count": null,
   "id": "cb1d1d83",
   "metadata": {},
   "outputs": [],
   "source": [
    "# Problem Statement :\n",
    "# Find number of job openings in Bangalore,IN and in Seattle,US?\n",
    "# Print the Number of Job opening in Bangalore and Seattle as Integer value.\n",
    "# Output Format :\n",
    "# CountBangalore CountSeattle\n",
    "\n",
    "import csv\n",
    "with open('amazon_jobs_dataset.csv') as file_obj:\n",
    "    file_data=csv.DictReader(file_obj,skipinitialspace=True)\n",
    "    file_list=list(file_data)\n",
    "    cb=0\n",
    "    cs=0\n",
    "    for i in file_list:\n",
    "        if(i['location']=='IN, KA, Bangalore '):\n",
    "            cb+=1\n",
    "        if(i['location']=='US, WA, Seattle '):\n",
    "            cs+=1\n",
    "    print(cb,\" \",cs)\n"
   ]
  },
  {
   "cell_type": "markdown",
   "id": "04366961",
   "metadata": {},
   "source": [
    "# job computer vision"
   ]
  },
  {
   "cell_type": "code",
   "execution_count": null,
   "id": "c57ac6a3",
   "metadata": {},
   "outputs": [],
   "source": [
    "# Problem Statement :\n",
    "# What are the total number of job openings related to Computer Vision ?\n",
    "# Note:For finding the job related to computer vision check the Job Title column.\n",
    "# Print the count as the Integer Value\n",
    "# Output Format :\n",
    "# Count\n",
    "\n",
    "import csv\n",
    "with open('amazon_jobs_dataset.csv') as file_obj:\n",
    "    file_data=csv.DictReader(file_obj, skipinitialspace=True)\n",
    "    file_list=list(file_data)\n",
    "    count=0\n",
    "    for row in list:\n",
    "        a=row['Title'].split()\n",
    "        if 'Vision' in a:\n",
    "            count+=1\n",
    "print(count)\n"
   ]
  },
  {
   "cell_type": "markdown",
   "id": "2bc8d5b1",
   "metadata": {},
   "source": [
    "# job canada"
   ]
  },
  {
   "cell_type": "code",
   "execution_count": null,
   "id": "0899fa74",
   "metadata": {},
   "outputs": [],
   "source": [
    "# Problem Statement :\n",
    "# Find the number of job openings in Canada?\n",
    "# Print the count as the Integer Value\n",
    "# Note: Here you should analyse the country code in location feature.( you can use dictionary for analyse part ).\n",
    "# Output Format :\n",
    "# Count\n",
    "\n",
    "\n",
    "import csv\n",
    "with open('amazon_jobs_dataset.csv') as file_obj:\n",
    "    file_data=csv.DictReader(file_obj,skipinitialspace=True)\n",
    "    file_list=list(file_data)\n",
    "    c=0\n",
    "    for row in file_list:\n",
    "        a=row['location'].split()\n",
    "        if not('US,' in a and 'CA,' in a) and 'CA,' in a:\n",
    "            c+=1\n",
    "        \n",
    "    print(c)\n",
    "\n"
   ]
  },
  {
   "cell_type": "markdown",
   "id": "3233bfaa",
   "metadata": {},
   "source": [
    "# job month 2018"
   ]
  },
  {
   "cell_type": "code",
   "execution_count": null,
   "id": "ec2a66be",
   "metadata": {},
   "outputs": [],
   "source": [
    "# Problem Statement :\n",
    "# Find the month having most job openings in Year 2018 ?\n",
    "# Print the month (Month Name i.e January, February, March) and Number of job opening as Integer Value\n",
    "# Output Format :\n",
    "# MonthName Count\n",
    "\n",
    "\n",
    "\n",
    "import csv\n",
    "with open('amazon_jobs_dataset.csv') as file_obj:\n",
    "    file_data=csv.DictReader(file_obj,skipinitialspace=True)\n",
    "    file_list=list(file_data)\n",
    "    a=[]\n",
    "    for row in file_list:\n",
    "        l=row['Posting_date'].split()\n",
    "        if '2018' in l:\n",
    "            a.append(l)\n",
    "d={}\n",
    "for i in a:\n",
    "    if i[0] in d:\n",
    "        d[i[0]]+=1\n",
    "    else:\n",
    "        d[i[0]]=1\n",
    "\n",
    "count=0\n",
    "month=0\n",
    "for i in d:\n",
    "    if d[i]>count:\n",
    "        count=d[i]\n",
    "        month=i\n",
    "print(month, count)\n"
   ]
  },
  {
   "cell_type": "markdown",
   "id": "b5c3e5f1",
   "metadata": {},
   "source": [
    "# job degree"
   ]
  },
  {
   "cell_type": "code",
   "execution_count": null,
   "id": "92cb0765",
   "metadata": {},
   "outputs": [],
   "source": [
    "# Problem Statement :\n",
    "# Find the number of job openings are present if applicant have Bachelor degree?\n",
    "# Print the count as Integer value\n",
    "# Note : Here we will use the BASIC QUALIFICATIONS feature to find out whether bachelor degree for Job is required or not. Keywords that can be used are 'Bachelor', 'BS' and 'BA'.\n",
    "# Output Format :\n",
    "# Count\n",
    "\n",
    "\n",
    "import csv\n",
    "with open('amazon_jobs_dataset.csv') as file_obj:\n",
    "    file_data=csv.DictReader(file_obj)\n",
    "    file_list=list(file_data)\n",
    "    count=0\n",
    "    for row in file_list:\n",
    "        a=row['BASIC QUALIFICATIONS']\n",
    "        if(\"Bachelor\" in a or \"BS\" in a or \"BA\" in a):\n",
    "            count+=1\n",
    "    print(count)"
   ]
  },
  {
   "cell_type": "markdown",
   "id": "5424158e",
   "metadata": {},
   "source": [
    "# job language"
   ]
  },
  {
   "cell_type": "code",
   "execution_count": null,
   "id": "3413c75b",
   "metadata": {},
   "outputs": [],
   "source": [
    "# Problem Statement :\n",
    "# Among Java, C++ and Python, which of the language has more job openings in India for Bachelor Degree Holder?\n",
    "# Print the Language(i.e Java,C++,Python) and number of job opening as integer value.\n",
    "# Note : Here we will use the BASIC QUALIFICATIONS feature to find out whether bachelor degree for Job is required or not. Keywords that can be used are 'Bachelor', 'BS' and 'BA' and we will use the BASIC QUALIFICATIONS feature to find out whether Language is required for the job or not.Keywords that is used for language searching are 'Java','C++' or 'Python'.(There case should not be changed).\n",
    "# Output Format :\n",
    "# Language Count\n",
    "\n",
    "import csv\n",
    "with open('amazon_jobs_dataset.csv') as file_obj:\n",
    "    file_data=csv.DictReader(file_obj,skipinitialspace=True)\n",
    "    file_list=list(file_data)\n",
    "    d={}\n",
    "    d['Java']=0\n",
    "    d['C++']=0\n",
    "    d['Python']=0\n",
    "    for row in file_list:\n",
    "        loc=row['location'].split(\",\")\n",
    "        a=row['BASIC QUALIFICATIONS']\n",
    "        if ('Java' in a) and ('Bachelor' in a or 'BS' in a or 'BA' in a) and (loc[0]=='IN'):\n",
    "            d['Java']+=1\n",
    "        elif ('C++' in a) and ('Bachelor' in a or 'BS' in a or 'BA' in a) and (loc[0]=='IN'):\n",
    "            d['C++']+=1\n",
    "        elif ('Python' in a) and ('Bachelor' in a or 'BS' in a or 'BA' in a) and (loc[0]=='IN'):\n",
    "            d['Python']+=1\n",
    "    count=0\n",
    "    lan=\"\"\n",
    "    for i in d:\n",
    "        if d[i]>count:\n",
    "            count=d[i]\n",
    "            lan=i\n",
    "    print(lan, count)"
   ]
  },
  {
   "cell_type": "markdown",
   "id": "8cbc711a",
   "metadata": {},
   "source": [
    "# job java"
   ]
  },
  {
   "cell_type": "code",
   "execution_count": null,
   "id": "a21b828f",
   "metadata": {},
   "outputs": [],
   "source": [
    "# Problem Statement :\n",
    "# Find the country does Amazon need the most number of Java Developer?\n",
    "# Print the Country(Country Shortcut as given in Dataset) and number of job opening as integer value\n",
    "# Note :Here we will use the BASIC QUALIFICATIONS feature to find out whether Java is required for the job or not.Keyword is used is 'Java'.(Here case should not be changed).\n",
    "\n",
    "\n",
    "# Output Format :\n",
    "\n",
    "\n",
    "# Country NumberofJobs\n",
    "# For example : US 40\n",
    "\n",
    "\n",
    "import csv\n",
    "with open('amazon_jobs_dataset.csv') as file_obj:\n",
    "    file_data=csv.DictReader(file_obj,skipinitialspace=True)\n",
    "    file_list=list(file_data)\n",
    "    d={}\n",
    "    for row in file_list:\n",
    "        a=row['BASIC QUALIFICATIONS']\n",
    "        loc=row['location'].split(\",\")[0]\n",
    "        if ('Java' in a):\n",
    "            if loc in d:\n",
    "                d[loc]+=1\n",
    "            else:\n",
    "                d[loc]=1\n",
    "    count=0\n",
    "    country=\"\"\n",
    "    for i in d:\n",
    "        if d[i]>count:\n",
    "            count=d[i]\n",
    "            country=i\n",
    "    print(country, count)\n",
    "    \n",
    "    \n"
   ]
  }
 ],
 "metadata": {
  "kernelspec": {
   "display_name": "Python 3 (ipykernel)",
   "language": "python",
   "name": "python3"
  },
  "language_info": {
   "codemirror_mode": {
    "name": "ipython",
    "version": 3
   },
   "file_extension": ".py",
   "mimetype": "text/x-python",
   "name": "python",
   "nbconvert_exporter": "python",
   "pygments_lexer": "ipython3",
   "version": "3.8.5"
  }
 },
 "nbformat": 4,
 "nbformat_minor": 5
}
